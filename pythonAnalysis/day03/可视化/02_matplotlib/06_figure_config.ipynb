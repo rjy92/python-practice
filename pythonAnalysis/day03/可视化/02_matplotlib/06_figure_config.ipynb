{
 "cells": [
  {
   "cell_type": "markdown",
   "id": "3cb5f399",
   "metadata": {},
   "source": [
    "# 画布设置"
   ]
  },
  {
   "cell_type": "code",
   "execution_count": null,
   "id": "a17ecca6",
   "metadata": {},
   "outputs": [],
   "source": [
    "import matplotlib.pyplot as plt\n",
    "import numpy as np\n",
    "\n",
    "plt.rcParams['font.sans-serif'] = ['SimHei']  # 设置中文字体\n",
    "plt.rcParams['axes.unicode_minus'] = False  # 正常显示负号\n",
    "\n",
    "x = np.array([2015, 2016, 2017, 2018])  # x轴的数据\n",
    "y = np.array([20, 50, 40, 60])  # y轴的数据\n"
   ]
  },
  {
   "cell_type": "code",
   "execution_count": null,
   "id": "5873e9a8",
   "metadata": {},
   "outputs": [],
   "source": [
    "plt.plot(x, y)  # 绘制折线图\n",
    "plt.show()  # 显示图片"
   ]
  },
  {
   "cell_type": "code",
   "execution_count": null,
   "id": "14892e12",
   "metadata": {},
   "outputs": [],
   "source": []
  }
 ],
 "metadata": {
  "kernelspec": {
   "display_name": "Python 3 (ipykernel)",
   "language": "python",
   "name": "python3"
  },
  "language_info": {
   "codemirror_mode": {
    "name": "ipython",
    "version": 3
   },
   "file_extension": ".py",
   "mimetype": "text/x-python",
   "name": "python",
   "nbconvert_exporter": "python",
   "pygments_lexer": "ipython3",
   "version": "3.8.2"
  },
  "toc": {
   "base_numbering": 1,
   "nav_menu": {},
   "number_sections": true,
   "sideBar": true,
   "skip_h1_title": false,
   "title_cell": "Table of Contents",
   "title_sidebar": "Contents",
   "toc_cell": false,
   "toc_position": {},
   "toc_section_display": true,
   "toc_window_display": false
  }
 },
 "nbformat": 4,
 "nbformat_minor": 5
}
