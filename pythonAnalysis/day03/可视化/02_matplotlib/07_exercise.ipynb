{
 "cells": [
  {
   "cell_type": "markdown",
   "id": "a098ec43",
   "metadata": {},
   "source": [
    "# 练习"
   ]
  },
  {
   "cell_type": "code",
   "execution_count": null,
   "id": "d79f43a3",
   "metadata": {},
   "outputs": [],
   "source": [
    "import matplotlib.pyplot as plt\n",
    "import numpy as np\n",
    "import warnings\n",
    "warnings.filterwarnings('ignore')\n",
    "# 显示中文设置\n",
    "plt.rcParams['font.sans-serif'] = 'SimHei'  # 设置中文字体\n",
    "plt.rcParams['axes.unicode_minus'] = False  #正常显示负号"
   ]
  },
  {
   "cell_type": "code",
   "execution_count": null,
   "id": "bf785e94",
   "metadata": {},
   "outputs": [],
   "source": [
    "# 电影名\n",
    "movies = [\"变形金刚5:最后的骑士\", \"速度与激情8\", \"功夫瑜伽\", \"西游伏妖篇\", \"战狼2\", \"摔跤吧！爸爸\", \"加勒比海盗5：死无对证\", \"金刚：骷髅岛\", \"极限特工：终极回归\", \"生化危机6：终章\", \"乘风破浪\", \"神偷奶爸3\", \"智取威虎山\", \"大闹天竺\", \"金刚狼3：殊死一战\", \"蜘蛛侠：英雄归来\", \"悟空传\", \"银河护卫队2\", \"情圣\", \"新木乃伊\"]\n",
    "# 票房收入\n",
    "moneys = [20.01, 26.94, 17.53, 16.49, 56.45, 12.96, 11.8, 11.61, 11.28, 11.12, 10.49, 10.3, 8.75, 14.55, 7.32, 6.99, 6.88, 8.86, 6.58, 13.23]"
   ]
  },
  {
   "cell_type": "code",
   "execution_count": null,
   "id": "14892e12",
   "metadata": {},
   "outputs": [],
   "source": []
  }
 ],
 "metadata": {
  "kernelspec": {
   "display_name": "Python 3 (ipykernel)",
   "language": "python",
   "name": "python3"
  },
  "language_info": {
   "codemirror_mode": {
    "name": "ipython",
    "version": 3
   },
   "file_extension": ".py",
   "mimetype": "text/x-python",
   "name": "python",
   "nbconvert_exporter": "python",
   "pygments_lexer": "ipython3",
   "version": "3.8.2"
  },
  "toc": {
   "base_numbering": 1,
   "nav_menu": {},
   "number_sections": true,
   "sideBar": true,
   "skip_h1_title": false,
   "title_cell": "Table of Contents",
   "title_sidebar": "Contents",
   "toc_cell": false,
   "toc_position": {},
   "toc_section_display": true,
   "toc_window_display": false
  }
 },
 "nbformat": 4,
 "nbformat_minor": 5
}
