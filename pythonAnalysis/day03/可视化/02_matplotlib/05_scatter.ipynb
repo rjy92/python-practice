{
 "cells": [
  {
   "cell_type": "markdown",
   "id": "7b4fc96e",
   "metadata": {},
   "source": [
    "# 散点图"
   ]
  },
  {
   "cell_type": "code",
   "execution_count": null,
   "id": "5760346e",
   "metadata": {},
   "outputs": [],
   "source": [
    "import matplotlib.pyplot as plt\n",
    "import numpy as np"
   ]
  },
  {
   "cell_type": "code",
   "execution_count": null,
   "id": "14892e12",
   "metadata": {},
   "outputs": [],
   "source": [
    "point_count = 100  # 定义点的个数是10\n",
    "np.random.seed(123)  # 设置随机种子为123\n",
    "# 随机生成 point_count 个正态分布的点 x\n",
    "x = np.random.randn(point_count)\n",
    "y = np.random.randn(point_count)\n"
   ]
  },
  {
   "cell_type": "code",
   "execution_count": null,
   "id": "43411580",
   "metadata": {},
   "outputs": [],
   "source": []
  },
  {
   "cell_type": "code",
   "execution_count": null,
   "id": "c1c73b7b",
   "metadata": {},
   "outputs": [],
   "source": []
  }
 ],
 "metadata": {
  "kernelspec": {
   "display_name": "Python 3 (ipykernel)",
   "language": "python",
   "name": "python3"
  },
  "language_info": {
   "codemirror_mode": {
    "name": "ipython",
    "version": 3
   },
   "file_extension": ".py",
   "mimetype": "text/x-python",
   "name": "python",
   "nbconvert_exporter": "python",
   "pygments_lexer": "ipython3",
   "version": "3.8.2"
  },
  "toc": {
   "base_numbering": 1,
   "nav_menu": {},
   "number_sections": true,
   "sideBar": true,
   "skip_h1_title": false,
   "title_cell": "Table of Contents",
   "title_sidebar": "Contents",
   "toc_cell": false,
   "toc_position": {},
   "toc_section_display": true,
   "toc_window_display": false
  }
 },
 "nbformat": 4,
 "nbformat_minor": 5
}
