{
 "cells": [
  {
   "cell_type": "markdown",
   "id": "2ff88a4b",
   "metadata": {},
   "source": [
    "# pandas 可视化课堂练习\n",
    "\n",
    "读取 \"data/HR.csv\" 内部的数据，形成 DataFrame 用 hr_data 绑定\n",
    "\n",
    "```\n",
    "import pandas as pd  # 导入pandas模块\n",
    "hr_data = pd.read_csv('data/HR.csv', encoding='GBK')\n",
    "```\n",
    "\n",
    "练习要求：\n",
    "\n",
    "1. 取出所有在职员工的数据，用变量 left_0 绑定此数据表\n",
    "2. 取出所有在职员工的数据，用变量 left_1 绑定此数据表\n",
    "3. 绘制在职员工的 \"员工满意度\"和 \"考核评分\"的散点图，观察其分布\n",
    "4. 绘制离职员工的 \"员工满意度\"和 \"考核评分\"的散点图，观察其分布\n",
    "5. 给出结论"
   ]
  },
  {
   "cell_type": "code",
   "execution_count": null,
   "id": "b127d0f8",
   "metadata": {},
   "outputs": [],
   "source": [
    "import pandas as pd  # 导入pandas模块\n",
    "import matplotlib.pyplot as plt\n",
    "\n",
    "plt.rcParams['font.sans-serif'] = ['SimHei'] #显示中文不乱码\n",
    "plt.rcParams['axes.unicode_minus'] = False  #  显示负号\n",
    "\n",
    "# 读取 HR.csv 形成 DataFrame\n",
    "hr_data = pd.read_csv('data/HR.csv', encoding='GBK')"
   ]
  },
  {
   "cell_type": "code",
   "execution_count": null,
   "id": "f1cf7d94",
   "metadata": {},
   "outputs": [],
   "source": [
    "# 1. 取出所有在职员工的数据，用变量 left_0 绑定此数据表\n"
   ]
  },
  {
   "cell_type": "code",
   "execution_count": null,
   "id": "8962a047",
   "metadata": {},
   "outputs": [],
   "source": [
    "# 2. 取出所有在职员工的数据，用变量 left_1 绑定此数据表\n"
   ]
  },
  {
   "cell_type": "code",
   "execution_count": null,
   "id": "62dce0e4",
   "metadata": {},
   "outputs": [],
   "source": [
    "# 3. 绘制在职员工的 \"员工满意度\"和 \"考核评分\"的散点图，观察其分布\n"
   ]
  },
  {
   "cell_type": "code",
   "execution_count": null,
   "id": "29a11f18",
   "metadata": {},
   "outputs": [],
   "source": [
    "# 4. 绘制离职员工的 \"员工满意度\"和 \"考核评分\"的散点图，观察其分布\n"
   ]
  },
  {
   "cell_type": "markdown",
   "id": "fc5ff83f",
   "metadata": {},
   "source": [
    "5. 给出结论"
   ]
  },
  {
   "cell_type": "code",
   "execution_count": null,
   "id": "57fbf437",
   "metadata": {},
   "outputs": [],
   "source": []
  }
 ],
 "metadata": {
  "kernelspec": {
   "display_name": "Python 3 (ipykernel)",
   "language": "python",
   "name": "python3"
  },
  "language_info": {
   "codemirror_mode": {
    "name": "ipython",
    "version": 3
   },
   "file_extension": ".py",
   "mimetype": "text/x-python",
   "name": "python",
   "nbconvert_exporter": "python",
   "pygments_lexer": "ipython3",
   "version": "3.8.2"
  },
  "toc": {
   "base_numbering": 1,
   "nav_menu": {},
   "number_sections": true,
   "sideBar": true,
   "skip_h1_title": false,
   "title_cell": "Table of Contents",
   "title_sidebar": "Contents",
   "toc_cell": false,
   "toc_position": {},
   "toc_section_display": true,
   "toc_window_display": false
  }
 },
 "nbformat": 4,
 "nbformat_minor": 5
}
