{
 "cells": [
  {
   "cell_type": "markdown",
   "id": "2ff88a4b",
   "metadata": {},
   "source": [
    "# pandas 可视化(绘图)"
   ]
  },
  {
   "cell_type": "code",
   "execution_count": null,
   "id": "b127d0f8",
   "metadata": {},
   "outputs": [],
   "source": [
    "import pandas as pd  # 导入pandas模块\n",
    "import numpy as np\n",
    "import matplotlib.pyplot as plt\n",
    "\n",
    "plt.rcParams['font.sans-serif'] = ['SimHei'] #显示中文不乱码\n",
    "plt.rcParams['axes.unicode_minus'] = False  #  显示负号\n",
    "\n",
    "# 读取 HR.csv 形成 DataFrame\n",
    "hr_data = pd.read_csv('data/HR.csv', encoding='GBK')"
   ]
  },
  {
   "cell_type": "code",
   "execution_count": null,
   "id": "c2073d6e",
   "metadata": {},
   "outputs": [],
   "source": [
    "hr_data.head(2)"
   ]
  },
  {
   "cell_type": "markdown",
   "id": "8e185bc8-b901-4a56-9eae-0cf66ade3a16",
   "metadata": {},
   "source": [
    "## 折线图"
   ]
  },
  {
   "cell_type": "code",
   "execution_count": null,
   "id": "37ff70fa",
   "metadata": {},
   "outputs": [],
   "source": [
    "# 折线图：绘制每月在公司工作时间 和 人数的分布\n",
    "\n",
    "# hr_data.每月在公司工作时间.value_counts(\n",
    "# ).sort_index().plot()"
   ]
  },
  {
   "cell_type": "markdown",
   "id": "30ff167d-4759-4ca9-b1d1-08b00808e5fb",
   "metadata": {},
   "source": [
    "## 柱状图"
   ]
  },
  {
   "cell_type": "code",
   "execution_count": null,
   "id": "00ba9b56",
   "metadata": {},
   "outputs": [],
   "source": [
    "# 柱状图：分析公司员工离职和非离职的人数的柱状图\n",
    "\n",
    "# left_val_cnt = hr_data['是否离职'].value_counts()\n",
    "# left_val_cnt"
   ]
  },
  {
   "cell_type": "code",
   "execution_count": null,
   "id": "115868ab",
   "metadata": {},
   "outputs": [],
   "source": [
    "# 使用 Series 的plot方法绘图\n",
    "\n",
    "# left_val_cnt.plot(kind=\"bar\")"
   ]
  },
  {
   "cell_type": "code",
   "execution_count": null,
   "id": "a072148c",
   "metadata": {
    "scrolled": true
   },
   "outputs": [],
   "source": [
    "# 使用Series 的plot  绘图时，Series的标签索引会变为x 轴的标签\n",
    "\n",
    "# left_val_cnt.index = ['未离职', '已离职']\n",
    "# left_val_cnt.plot.bar(\n",
    "#     rot=0  # x 轴标签的旋转角度\n",
    "# )\n"
   ]
  },
  {
   "cell_type": "code",
   "execution_count": null,
   "id": "5c347ac9",
   "metadata": {},
   "outputs": [],
   "source": [
    "# 计算公司员工司龄的分布情况\n",
    "\n",
    "# left_years_cnt = hr_data.司龄.value_counts().sort_index()\n",
    "# left_years_cnt"
   ]
  },
  {
   "cell_type": "markdown",
   "id": "d806fcf6-be57-4ff6-ba11-a50d233f3671",
   "metadata": {},
   "source": [
    "## 条形图"
   ]
  },
  {
   "cell_type": "code",
   "execution_count": null,
   "id": "5076fb8a",
   "metadata": {},
   "outputs": [],
   "source": [
    "# 条形图：分析公司员工司龄的分布情况\n",
    "\n",
    "# left_years_cnt.plot(kind='barh')"
   ]
  },
  {
   "cell_type": "code",
   "execution_count": null,
   "id": "bb371c74",
   "metadata": {},
   "outputs": [],
   "source": [
    "# 计算项目数量对应的频数。\n",
    "\n",
    "# project_cnt = hr_data.项目数量.value_counts()\n",
    "# project_cnt"
   ]
  },
  {
   "cell_type": "markdown",
   "id": "a12af35c-7942-40b8-bb55-df6910ad447b",
   "metadata": {},
   "source": [
    "## 饼图"
   ]
  },
  {
   "cell_type": "code",
   "execution_count": null,
   "id": "963cc31c",
   "metadata": {},
   "outputs": [],
   "source": [
    "# 饼图：绘制项目数量的占比情况\n",
    "\n",
    "# project_cnt.plot.pie(autopct=\"%.1f%%\")"
   ]
  },
  {
   "cell_type": "markdown",
   "id": "41b7a9ca-abfe-4ba5-bd6d-ba2b119715d8",
   "metadata": {},
   "source": [
    "## 散点图"
   ]
  },
  {
   "cell_type": "code",
   "execution_count": null,
   "id": "f96e49b4",
   "metadata": {},
   "outputs": [],
   "source": [
    "# 散点图：绘图显示 员工满意度 和考核评分 的分布\n",
    "\n",
    "# hr_data.plot(\n",
    "#     kind='scatter',\n",
    "#     x='员工满意度',  # x轴数据\n",
    "#     y='考核评分',    # y 轴数据\n",
    "#     alpha=0.3  # 透明度\n",
    "# )\n"
   ]
  },
  {
   "cell_type": "code",
   "execution_count": null,
   "id": "b13a09dd",
   "metadata": {},
   "outputs": [],
   "source": [
    "# 取出所有在职员工的数据，用变量 left_0 绑定此数据表\n",
    "left_0 = hr_data[ hr_data.是否离职 == 0 ]\n",
    "# 取出所有离职员工的数据，用变量 left_1 绑定此数据表\n",
    "left_1 = hr_data[ hr_data.是否离职 == 1 ]"
   ]
  },
  {
   "cell_type": "code",
   "execution_count": null,
   "id": "c0fd2640-24f3-4251-8f35-74fa20195546",
   "metadata": {},
   "outputs": [],
   "source": [
    "# 绘制在职员工的 \"员工满意度\"和 \"考核评分\"的分布\n",
    "\n",
    "# left_0.plot(\n",
    "#     kind='scatter',\n",
    "#     x='员工满意度',  # x轴数据\n",
    "#     y='考核评分',    # y 轴数据\n",
    "#     alpha=0.3  # 透明度\n",
    "# )"
   ]
  },
  {
   "cell_type": "code",
   "execution_count": null,
   "id": "af5886fa-c4ae-4f17-b893-778a34ddc438",
   "metadata": {},
   "outputs": [],
   "source": [
    "# 绘制离职员工的 \"员工满意度\"和 \"考核评分\"的分布\n",
    "\n",
    "# left_1.plot(\n",
    "#     kind='scatter',\n",
    "#     x='员工满意度',  # x轴数据\n",
    "#     y='考核评分',    # y 轴数据\n",
    "#     alpha=0.3  # 透明度\n",
    "# )"
   ]
  },
  {
   "cell_type": "markdown",
   "id": "469a04ad-9f14-4d37-b5a7-cfca8cb4c0c4",
   "metadata": {},
   "source": [
    "## 直方图"
   ]
  },
  {
   "cell_type": "code",
   "execution_count": null,
   "id": "ebbaa91c",
   "metadata": {},
   "outputs": [],
   "source": [
    "# 直方图：绘制每月在公司工作时间 和 人数的直方图\n",
    "\n",
    "# hr_data.每月在公司工作时间.plot.hist(\n",
    "#     bins=20    # 区间的分段个数\n",
    "# )"
   ]
  },
  {
   "cell_type": "markdown",
   "id": "2f22938b-5434-47cf-953c-00ac848b7fff",
   "metadata": {},
   "source": [
    "## 箱线图"
   ]
  },
  {
   "cell_type": "code",
   "execution_count": null,
   "id": "3ed646ed",
   "metadata": {},
   "outputs": [],
   "source": [
    "# 箱线图：绘制员工满意度的数据分布情况\n",
    "\n",
    "# hr_data.员工满意度.plot.box()"
   ]
  },
  {
   "cell_type": "code",
   "execution_count": null,
   "id": "50109f54",
   "metadata": {},
   "outputs": [],
   "source": [
    "# kind : str\n",
    "#     - 'line' : line plot (default)\n",
    "#     - 'bar' : vertical bar plot\n",
    "#     - 'barh' : horizontal bar plot\n",
    "#     - 'hist' : histogram\n",
    "#     - 'box' : boxplot\n",
    "#     - 'pie' : pie plot\n",
    "#     - 'scatter' : scatter plot (DataFrame only)"
   ]
  }
 ],
 "metadata": {
  "kernelspec": {
   "display_name": "Python 3 (ipykernel)",
   "language": "python",
   "name": "python3"
  },
  "language_info": {
   "codemirror_mode": {
    "name": "ipython",
    "version": 3
   },
   "file_extension": ".py",
   "mimetype": "text/x-python",
   "name": "python",
   "nbconvert_exporter": "python",
   "pygments_lexer": "ipython3",
   "version": "3.8.2"
  },
  "toc": {
   "base_numbering": 1,
   "nav_menu": {},
   "number_sections": true,
   "sideBar": true,
   "skip_h1_title": false,
   "title_cell": "Table of Contents",
   "title_sidebar": "Contents",
   "toc_cell": false,
   "toc_position": {},
   "toc_section_display": true,
   "toc_window_display": false
  }
 },
 "nbformat": 4,
 "nbformat_minor": 5
}
