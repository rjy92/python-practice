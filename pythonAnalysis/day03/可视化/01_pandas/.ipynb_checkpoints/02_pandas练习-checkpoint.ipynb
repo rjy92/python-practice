{
 "cells": [
  {
   "cell_type": "code",
   "execution_count": null,
   "id": "b127d0f8",
   "metadata": {},
   "outputs": [],
   "source": [
    "import pandas as pd"
   ]
  },
  {
   "cell_type": "code",
   "execution_count": null,
   "id": "d56e2b2e",
   "metadata": {
    "scrolled": true
   },
   "outputs": [],
   "source": [
    "# 读取 HR.csv 形成DataFrame\n",
    "hr_data = pd.read_csv(\n",
    "    'data/HR.csv',\n",
    "    encoding='GBK'\n",
    ")  # UnicodeDecodeError, encoding=...\n",
    "hr_data.head(2)"
   ]
  },
  {
   "cell_type": "markdown",
   "id": "71eed158",
   "metadata": {},
   "source": [
    "# 练习\n",
    "1. 统计有哪些部门,每个部门人数是多少\n",
    "2. 离职情况-离职 未离职人数分别是多少？离职率是多少\n",
    "3. 薪资情况-几种等级，各自占比\n",
    "4. 员工满意度取出0.09 和1的数据\n"
   ]
  },
  {
   "cell_type": "code",
   "execution_count": null,
   "id": "908dd436",
   "metadata": {},
   "outputs": [],
   "source": [
    "# 1. 统计有哪些部门,每个部门人数是多少\n"
   ]
  },
  {
   "cell_type": "code",
   "execution_count": null,
   "id": "368ae0b7",
   "metadata": {},
   "outputs": [],
   "source": [
    "# 2. 离职情况-离职 未离职人数分别是多少？离职率是多少\n"
   ]
  },
  {
   "cell_type": "code",
   "execution_count": null,
   "id": "c3fda64b",
   "metadata": {},
   "outputs": [],
   "source": [
    "# 3. 薪资情况-几种等级，各自占比\n"
   ]
  },
  {
   "cell_type": "code",
   "execution_count": null,
   "id": "d4717b7f",
   "metadata": {
    "scrolled": true
   },
   "outputs": [],
   "source": [
    "# 4. 员工满意度取出0.09 和1的数据\n"
   ]
  }
 ],
 "metadata": {
  "kernelspec": {
   "display_name": "Python 3 (ipykernel)",
   "language": "python",
   "name": "python3"
  },
  "language_info": {
   "codemirror_mode": {
    "name": "ipython",
    "version": 3
   },
   "file_extension": ".py",
   "mimetype": "text/x-python",
   "name": "python",
   "nbconvert_exporter": "python",
   "pygments_lexer": "ipython3",
   "version": "3.8.2"
  },
  "toc": {
   "base_numbering": 1,
   "nav_menu": {},
   "number_sections": true,
   "sideBar": true,
   "skip_h1_title": false,
   "title_cell": "Table of Contents",
   "title_sidebar": "Contents",
   "toc_cell": false,
   "toc_position": {},
   "toc_section_display": true,
   "toc_window_display": false
  }
 },
 "nbformat": 4,
 "nbformat_minor": 5
}
