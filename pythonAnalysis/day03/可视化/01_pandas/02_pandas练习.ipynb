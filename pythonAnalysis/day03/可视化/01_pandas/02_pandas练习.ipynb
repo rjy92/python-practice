{
 "cells": [
  {
   "cell_type": "code",
   "execution_count": 1,
   "id": "b127d0f8",
   "metadata": {},
   "outputs": [],
   "source": [
    "import pandas as pd"
   ]
  },
  {
   "cell_type": "code",
   "execution_count": 2,
   "id": "d56e2b2e",
   "metadata": {
    "scrolled": true
   },
   "outputs": [
    {
     "data": {
      "text/html": [
       "<div>\n",
       "<style scoped>\n",
       "    .dataframe tbody tr th:only-of-type {\n",
       "        vertical-align: middle;\n",
       "    }\n",
       "\n",
       "    .dataframe tbody tr th {\n",
       "        vertical-align: top;\n",
       "    }\n",
       "\n",
       "    .dataframe thead th {\n",
       "        text-align: right;\n",
       "    }\n",
       "</style>\n",
       "<table border=\"1\" class=\"dataframe\">\n",
       "  <thead>\n",
       "    <tr style=\"text-align: right;\">\n",
       "      <th></th>\n",
       "      <th>员工满意度</th>\n",
       "      <th>考核评分</th>\n",
       "      <th>项目数量</th>\n",
       "      <th>每月在公司工作时间</th>\n",
       "      <th>司龄</th>\n",
       "      <th>工作事故</th>\n",
       "      <th>是否离职</th>\n",
       "      <th>五年内是否升职</th>\n",
       "      <th>部门</th>\n",
       "      <th>薪水</th>\n",
       "    </tr>\n",
       "  </thead>\n",
       "  <tbody>\n",
       "    <tr>\n",
       "      <th>0</th>\n",
       "      <td>0.38</td>\n",
       "      <td>0.53</td>\n",
       "      <td>2</td>\n",
       "      <td>157</td>\n",
       "      <td>3</td>\n",
       "      <td>0</td>\n",
       "      <td>1</td>\n",
       "      <td>0</td>\n",
       "      <td>sales</td>\n",
       "      <td>low</td>\n",
       "    </tr>\n",
       "    <tr>\n",
       "      <th>1</th>\n",
       "      <td>0.80</td>\n",
       "      <td>0.86</td>\n",
       "      <td>5</td>\n",
       "      <td>262</td>\n",
       "      <td>6</td>\n",
       "      <td>0</td>\n",
       "      <td>1</td>\n",
       "      <td>0</td>\n",
       "      <td>sales</td>\n",
       "      <td>medium</td>\n",
       "    </tr>\n",
       "  </tbody>\n",
       "</table>\n",
       "</div>"
      ],
      "text/plain": [
       "   员工满意度  考核评分  项目数量  每月在公司工作时间  司龄  工作事故  是否离职  五年内是否升职     部门      薪水\n",
       "0   0.38  0.53     2        157   3     0     1        0  sales     low\n",
       "1   0.80  0.86     5        262   6     0     1        0  sales  medium"
      ]
     },
     "execution_count": 2,
     "metadata": {},
     "output_type": "execute_result"
    }
   ],
   "source": [
    "# 读取 HR.csv 形成DataFrame\n",
    "hr_data = pd.read_csv(\n",
    "    'data/HR.csv',\n",
    "    encoding='GBK'\n",
    ")  # UnicodeDecodeError, encoding=...\n",
    "hr_data.head(2)"
   ]
  },
  {
   "cell_type": "markdown",
   "id": "b5bcf7d4-6f7a-4277-b21c-7e7b18f37faa",
   "metadata": {},
   "source": [
    "1. 练习\n",
    "数据形状\n",
    "都有哪些列\n",
    "统计有哪些部门,每个部门人数是多少\n",
    "离职情况-离职 未离职人数分别是多少？离职率是多少\n",
    "薪资情况-几种等级，各自占比\n",
    "员工满意度,工作时长的均值\n",
    "升职的概率"
   ]
  },
  {
   "cell_type": "markdown",
   "id": "71eed158",
   "metadata": {},
   "source": [
    "# 练习\n",
    "1. 统计有哪些部门,每个部门人数是多少\n",
    "2. 离职情况-离职 未离职人数分别是多少？离职率是多少\n",
    "3. 薪资情况-几种等级，各自占比\n",
    "4. 员工满意度取出0.09 和1的数据\n"
   ]
  },
  {
   "cell_type": "code",
   "execution_count": null,
   "id": "908dd436",
   "metadata": {},
   "outputs": [],
   "source": [
    "# 1. 统计有哪些部门,每个部门人数是多少\n"
   ]
  },
  {
   "cell_type": "code",
   "execution_count": null,
   "id": "368ae0b7",
   "metadata": {},
   "outputs": [],
   "source": [
    "# 2. 离职情况-离职 未离职人数分别是多少？离职率是多少\n"
   ]
  },
  {
   "cell_type": "code",
   "execution_count": null,
   "id": "c3fda64b",
   "metadata": {},
   "outputs": [],
   "source": [
    "# 3. 薪资情况-几种等级，各自占比\n"
   ]
  },
  {
   "cell_type": "code",
   "execution_count": null,
   "id": "d4717b7f",
   "metadata": {
    "scrolled": true
   },
   "outputs": [],
   "source": [
    "# 4. 员工满意度取出0.09 和1的数据\n"
   ]
  }
 ],
 "metadata": {
  "kernelspec": {
   "display_name": "Python 3 (ipykernel)",
   "language": "python",
   "name": "python3"
  },
  "language_info": {
   "codemirror_mode": {
    "name": "ipython",
    "version": 3
   },
   "file_extension": ".py",
   "mimetype": "text/x-python",
   "name": "python",
   "nbconvert_exporter": "python",
   "pygments_lexer": "ipython3",
   "version": "3.13.0"
  },
  "toc": {
   "base_numbering": 1,
   "nav_menu": {},
   "number_sections": true,
   "sideBar": true,
   "skip_h1_title": false,
   "title_cell": "Table of Contents",
   "title_sidebar": "Contents",
   "toc_cell": false,
   "toc_position": {},
   "toc_section_display": true,
   "toc_window_display": false
  }
 },
 "nbformat": 4,
 "nbformat_minor": 5
}
