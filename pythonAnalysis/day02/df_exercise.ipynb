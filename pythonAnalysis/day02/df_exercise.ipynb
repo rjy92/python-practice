{
 "cells": [
  {
   "cell_type": "code",
   "execution_count": 1,
   "id": "35845ee0-f794-4d30-837f-e0a8d09f99d3",
   "metadata": {},
   "outputs": [],
   "source": [
    "import numpy as np\n",
    "import pandas as pd"
   ]
  },
  {
   "cell_type": "markdown",
   "id": "ac054d2e-1066-43e7-8f32-f4e09a0d2d07",
   "metadata": {},
   "source": [
    "1. 创建一个表格数据 命名为df,三列数据,分别是姓名 性别 成绩\n",
    "2. 得到姓名这一列\n",
    "3. 得到性别和成绩\n",
    "4. 打印前两行\n",
    "5. 得到cc的成绩\n",
    "6. 将john替换成jack\n",
    "7. 得到lisa和jack的分数          \n",
    "8. 得到成绩及格的学生姓名\n",
    "9. 计算男女分布情况\n",
    "10. 将成绩按照降序排序 得到姓名排名顺序"
   ]
  },
  {
   "cell_type": "code",
   "execution_count": 2,
   "id": "0d5bf2aa-5a62-4176-87fc-4136fee36d88",
   "metadata": {},
   "outputs": [
    {
     "data": {
      "text/html": [
       "<div>\n",
       "<style scoped>\n",
       "    .dataframe tbody tr th:only-of-type {\n",
       "        vertical-align: middle;\n",
       "    }\n",
       "\n",
       "    .dataframe tbody tr th {\n",
       "        vertical-align: top;\n",
       "    }\n",
       "\n",
       "    .dataframe thead th {\n",
       "        text-align: right;\n",
       "    }\n",
       "</style>\n",
       "<table border=\"1\" class=\"dataframe\">\n",
       "  <thead>\n",
       "    <tr style=\"text-align: right;\">\n",
       "      <th></th>\n",
       "      <th>姓名</th>\n",
       "      <th>性别</th>\n",
       "      <th>成绩</th>\n",
       "    </tr>\n",
       "  </thead>\n",
       "  <tbody>\n",
       "    <tr>\n",
       "      <th>0</th>\n",
       "      <td>lisa</td>\n",
       "      <td>女</td>\n",
       "      <td>89</td>\n",
       "    </tr>\n",
       "    <tr>\n",
       "      <th>1</th>\n",
       "      <td>cc</td>\n",
       "      <td>男</td>\n",
       "      <td>96</td>\n",
       "    </tr>\n",
       "    <tr>\n",
       "      <th>2</th>\n",
       "      <td>john</td>\n",
       "      <td>男</td>\n",
       "      <td>45</td>\n",
       "    </tr>\n",
       "  </tbody>\n",
       "</table>\n",
       "</div>"
      ],
      "text/plain": [
       "     姓名 性别  成绩\n",
       "0  lisa  女  89\n",
       "1    cc  男  96\n",
       "2  john  男  45"
      ]
     },
     "execution_count": 2,
     "metadata": {},
     "output_type": "execute_result"
    }
   ],
   "source": [
    "# data=[['lisa','女',89],\n",
    "#       ['cc','男',96],\n",
    "#       ['john','男',45]]\n",
    "data={'姓名':['lisa','cc','john'],         \n",
    "      '性别':['女','男','男'],\n",
    "      '成绩':[89,96,45]}\n",
    "df=pd.DataFrame(data=data\n",
    "                ,columns=['姓名','性别','成绩'])\n",
    "df"
   ]
  },
  {
   "cell_type": "code",
   "execution_count": 3,
   "id": "771f391b-8678-4c07-8ca9-cd8c4fb10694",
   "metadata": {},
   "outputs": [
    {
     "data": {
      "text/plain": [
       "0    lisa\n",
       "1      cc\n",
       "2    john\n",
       "Name: 姓名, dtype: object"
      ]
     },
     "execution_count": 3,
     "metadata": {},
     "output_type": "execute_result"
    }
   ],
   "source": [
    "df\n",
    "# 2. 得到姓名这一列\n",
    "df['姓名']\n",
    "df.姓名\n",
    "df.loc[:,'姓名']\n",
    "df.iloc[:,0]"
   ]
  },
  {
   "cell_type": "code",
   "execution_count": 39,
   "id": "5d421b1c-7a84-4e20-af0b-383c6b475bc8",
   "metadata": {},
   "outputs": [
    {
     "data": {
      "text/html": [
       "<div>\n",
       "<style scoped>\n",
       "    .dataframe tbody tr th:only-of-type {\n",
       "        vertical-align: middle;\n",
       "    }\n",
       "\n",
       "    .dataframe tbody tr th {\n",
       "        vertical-align: top;\n",
       "    }\n",
       "\n",
       "    .dataframe thead th {\n",
       "        text-align: right;\n",
       "    }\n",
       "</style>\n",
       "<table border=\"1\" class=\"dataframe\">\n",
       "  <thead>\n",
       "    <tr style=\"text-align: right;\">\n",
       "      <th></th>\n",
       "      <th>性别</th>\n",
       "      <th>成绩</th>\n",
       "    </tr>\n",
       "  </thead>\n",
       "  <tbody>\n",
       "    <tr>\n",
       "      <th>0</th>\n",
       "      <td>女</td>\n",
       "      <td>89</td>\n",
       "    </tr>\n",
       "    <tr>\n",
       "      <th>1</th>\n",
       "      <td>男</td>\n",
       "      <td>96</td>\n",
       "    </tr>\n",
       "    <tr>\n",
       "      <th>2</th>\n",
       "      <td>男</td>\n",
       "      <td>45</td>\n",
       "    </tr>\n",
       "  </tbody>\n",
       "</table>\n",
       "</div>"
      ],
      "text/plain": [
       "  性别  成绩\n",
       "0  女  89\n",
       "1  男  96\n",
       "2  男  45"
      ]
     },
     "execution_count": 39,
     "metadata": {},
     "output_type": "execute_result"
    }
   ],
   "source": [
    "# 3 得到性别和成绩\n",
    "df[['性别','成绩']]\n",
    "df.loc[:,['性别','成绩']]\n",
    "df.iloc[:,[1,2]]\n",
    "df.iloc[:,1::]"
   ]
  },
  {
   "cell_type": "code",
   "execution_count": 4,
   "id": "a18e8842-5fba-4d2d-a63b-99c8ddb7bb69",
   "metadata": {},
   "outputs": [
    {
     "data": {
      "text/html": [
       "<div>\n",
       "<style scoped>\n",
       "    .dataframe tbody tr th:only-of-type {\n",
       "        vertical-align: middle;\n",
       "    }\n",
       "\n",
       "    .dataframe tbody tr th {\n",
       "        vertical-align: top;\n",
       "    }\n",
       "\n",
       "    .dataframe thead th {\n",
       "        text-align: right;\n",
       "    }\n",
       "</style>\n",
       "<table border=\"1\" class=\"dataframe\">\n",
       "  <thead>\n",
       "    <tr style=\"text-align: right;\">\n",
       "      <th></th>\n",
       "      <th>姓名</th>\n",
       "      <th>性别</th>\n",
       "      <th>成绩</th>\n",
       "    </tr>\n",
       "  </thead>\n",
       "  <tbody>\n",
       "    <tr>\n",
       "      <th>0</th>\n",
       "      <td>lisa</td>\n",
       "      <td>女</td>\n",
       "      <td>89</td>\n",
       "    </tr>\n",
       "    <tr>\n",
       "      <th>1</th>\n",
       "      <td>cc</td>\n",
       "      <td>男</td>\n",
       "      <td>96</td>\n",
       "    </tr>\n",
       "  </tbody>\n",
       "</table>\n",
       "</div>"
      ],
      "text/plain": [
       "     姓名 性别  成绩\n",
       "0  lisa  女  89\n",
       "1    cc  男  96"
      ]
     },
     "execution_count": 4,
     "metadata": {},
     "output_type": "execute_result"
    }
   ],
   "source": [
    "# 4. 打印前两行\n",
    "df.head(2)\n",
    "df[0:2]\n",
    "# 这里的1当做标签\n",
    "df.loc[0:1]\n",
    "df.iloc[0:2]"
   ]
  },
  {
   "cell_type": "code",
   "execution_count": 5,
   "id": "4279ae17-8928-4c7a-b4e7-1a605d767bde",
   "metadata": {},
   "outputs": [
    {
     "data": {
      "text/plain": [
       "array([96], dtype=int64)"
      ]
     },
     "execution_count": 5,
     "metadata": {},
     "output_type": "execute_result"
    }
   ],
   "source": [
    "# 5. 得到cc的成绩\n",
    "df1=df[df['姓名']=='cc']\n",
    "df1['成绩'].values"
   ]
  },
  {
   "cell_type": "code",
   "execution_count": 17,
   "id": "5d290db7-8d3b-4fce-a988-6ebef9f80920",
   "metadata": {},
   "outputs": [],
   "source": [
    "# 6. 将john替换成jack\n",
    "# df['姓名']=df['姓名'].str.replace('john','jack')\n",
    "# df\n",
    "df.loc[df['姓名']=='john','姓名']='jack'"
   ]
  },
  {
   "cell_type": "code",
   "execution_count": 18,
   "id": "f3490e90-9475-4f4a-8082-9a56fc182e36",
   "metadata": {},
   "outputs": [
    {
     "data": {
      "text/html": [
       "<div>\n",
       "<style scoped>\n",
       "    .dataframe tbody tr th:only-of-type {\n",
       "        vertical-align: middle;\n",
       "    }\n",
       "\n",
       "    .dataframe tbody tr th {\n",
       "        vertical-align: top;\n",
       "    }\n",
       "\n",
       "    .dataframe thead th {\n",
       "        text-align: right;\n",
       "    }\n",
       "</style>\n",
       "<table border=\"1\" class=\"dataframe\">\n",
       "  <thead>\n",
       "    <tr style=\"text-align: right;\">\n",
       "      <th></th>\n",
       "      <th>姓名</th>\n",
       "      <th>性别</th>\n",
       "      <th>成绩</th>\n",
       "    </tr>\n",
       "  </thead>\n",
       "  <tbody>\n",
       "    <tr>\n",
       "      <th>0</th>\n",
       "      <td>lisa</td>\n",
       "      <td>女</td>\n",
       "      <td>89</td>\n",
       "    </tr>\n",
       "    <tr>\n",
       "      <th>1</th>\n",
       "      <td>cc</td>\n",
       "      <td>男</td>\n",
       "      <td>96</td>\n",
       "    </tr>\n",
       "    <tr>\n",
       "      <th>2</th>\n",
       "      <td>jack</td>\n",
       "      <td>男</td>\n",
       "      <td>45</td>\n",
       "    </tr>\n",
       "  </tbody>\n",
       "</table>\n",
       "</div>"
      ],
      "text/plain": [
       "     姓名 性别  成绩\n",
       "0  lisa  女  89\n",
       "1    cc  男  96\n",
       "2  jack  男  45"
      ]
     },
     "execution_count": 18,
     "metadata": {},
     "output_type": "execute_result"
    }
   ],
   "source": [
    "df"
   ]
  },
  {
   "cell_type": "code",
   "execution_count": 31,
   "id": "60ecfc8a-47b4-4c27-b724-a830320aa438",
   "metadata": {},
   "outputs": [
    {
     "data": {
      "text/html": [
       "<div>\n",
       "<style scoped>\n",
       "    .dataframe tbody tr th:only-of-type {\n",
       "        vertical-align: middle;\n",
       "    }\n",
       "\n",
       "    .dataframe tbody tr th {\n",
       "        vertical-align: top;\n",
       "    }\n",
       "\n",
       "    .dataframe thead th {\n",
       "        text-align: right;\n",
       "    }\n",
       "</style>\n",
       "<table border=\"1\" class=\"dataframe\">\n",
       "  <thead>\n",
       "    <tr style=\"text-align: right;\">\n",
       "      <th></th>\n",
       "      <th>姓名</th>\n",
       "      <th>成绩</th>\n",
       "    </tr>\n",
       "  </thead>\n",
       "  <tbody>\n",
       "    <tr>\n",
       "      <th>0</th>\n",
       "      <td>lisa</td>\n",
       "      <td>89</td>\n",
       "    </tr>\n",
       "    <tr>\n",
       "      <th>2</th>\n",
       "      <td>jack</td>\n",
       "      <td>45</td>\n",
       "    </tr>\n",
       "  </tbody>\n",
       "</table>\n",
       "</div>"
      ],
      "text/plain": [
       "     姓名  成绩\n",
       "0  lisa  89\n",
       "2  jack  45"
      ]
     },
     "execution_count": 31,
     "metadata": {},
     "output_type": "execute_result"
    }
   ],
   "source": [
    "# 7. 得到lisa和jack的分数\n",
    "# df.loc[[0,2],['姓名','成绩']]\n",
    "# df.iloc[[0,2],[0,2]]\n",
    "df2=df[df['姓名'].isin(['lisa','jack'])]\n",
    "df2[['姓名','成绩']]\n",
    "# 牛客网 力扣 pandas sql"
   ]
  },
  {
   "cell_type": "code",
   "execution_count": 35,
   "id": "d74cfa1d-bed0-48c2-b4f7-ae0f66c64cb7",
   "metadata": {},
   "outputs": [
    {
     "data": {
      "text/plain": [
       "0    lisa\n",
       "1      cc\n",
       "Name: 姓名, dtype: object"
      ]
     },
     "execution_count": 35,
     "metadata": {},
     "output_type": "execute_result"
    }
   ],
   "source": [
    "# 8. 得到成绩及格的学生姓名\n",
    "df.loc[df['成绩']>60,'姓名']"
   ]
  },
  {
   "cell_type": "code",
   "execution_count": 37,
   "id": "bde970fc-573f-4fe0-8721-ed5aa388134d",
   "metadata": {},
   "outputs": [
    {
     "data": {
      "text/plain": [
       "性别\n",
       "男    2\n",
       "女    1\n",
       "Name: count, dtype: int64"
      ]
     },
     "execution_count": 37,
     "metadata": {},
     "output_type": "execute_result"
    }
   ],
   "source": [
    "# 9. 计算男女分布情况\n",
    "df['性别'].value_counts()"
   ]
  },
  {
   "cell_type": "code",
   "execution_count": 40,
   "id": "46d13de7-3959-4b5b-9c19-9f3500a14537",
   "metadata": {},
   "outputs": [
    {
     "data": {
      "text/plain": [
       "1      cc\n",
       "0    lisa\n",
       "2    jack\n",
       "Name: 姓名, dtype: object"
      ]
     },
     "execution_count": 40,
     "metadata": {},
     "output_type": "execute_result"
    }
   ],
   "source": [
    "# 10. 将成绩按照降序排序 得到姓名排名顺序\n",
    "df.sort_values(by='成绩',ascending=False)['姓名']"
   ]
  },
  {
   "cell_type": "code",
   "execution_count": null,
   "id": "89bbe73e-f819-4ce9-9906-86444d36551d",
   "metadata": {},
   "outputs": [],
   "source": []
  },
  {
   "cell_type": "code",
   "execution_count": 7,
   "id": "e397f551-a507-4b8f-90ca-6ff3286e158d",
   "metadata": {},
   "outputs": [
    {
     "data": {
      "text/html": [
       "<div>\n",
       "<style scoped>\n",
       "    .dataframe tbody tr th:only-of-type {\n",
       "        vertical-align: middle;\n",
       "    }\n",
       "\n",
       "    .dataframe tbody tr th {\n",
       "        vertical-align: top;\n",
       "    }\n",
       "\n",
       "    .dataframe thead th {\n",
       "        text-align: right;\n",
       "    }\n",
       "</style>\n",
       "<table border=\"1\" class=\"dataframe\">\n",
       "  <thead>\n",
       "    <tr style=\"text-align: right;\">\n",
       "      <th></th>\n",
       "      <th>性别</th>\n",
       "      <th>成绩</th>\n",
       "    </tr>\n",
       "  </thead>\n",
       "  <tbody>\n",
       "    <tr>\n",
       "      <th>0</th>\n",
       "      <td>女</td>\n",
       "      <td>89</td>\n",
       "    </tr>\n",
       "    <tr>\n",
       "      <th>1</th>\n",
       "      <td>男</td>\n",
       "      <td>96</td>\n",
       "    </tr>\n",
       "    <tr>\n",
       "      <th>2</th>\n",
       "      <td>男</td>\n",
       "      <td>45</td>\n",
       "    </tr>\n",
       "  </tbody>\n",
       "</table>\n",
       "</div>"
      ],
      "text/plain": [
       "  性别  成绩\n",
       "0  女  89\n",
       "1  男  96\n",
       "2  男  45"
      ]
     },
     "execution_count": 7,
     "metadata": {},
     "output_type": "execute_result"
    }
   ],
   "source": [
    "# 3. 得到性别和成绩\n",
    "df[['性别','成绩']]\n",
    "df.loc[:,['性别','成绩']]\n",
    "df.iloc[:,1::]\n",
    "df.iloc[:,[1,2]]"
   ]
  }
 ],
 "metadata": {
  "kernelspec": {
   "display_name": "Python 3 (ipykernel)",
   "language": "python",
   "name": "python3"
  },
  "language_info": {
   "codemirror_mode": {
    "name": "ipython",
    "version": 3
   },
   "file_extension": ".py",
   "mimetype": "text/x-python",
   "name": "python",
   "nbconvert_exporter": "python",
   "pygments_lexer": "ipython3",
   "version": "3.13.0"
  }
 },
 "nbformat": 4,
 "nbformat_minor": 5
}
