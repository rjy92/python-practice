{
 "cells": [
  {
   "cell_type": "markdown",
   "id": "7428ae39",
   "metadata": {},
   "source": [
    "#  pandas之DataFrame数据帧"
   ]
  },
  {
   "cell_type": "code",
   "execution_count": 7,
   "id": "2eaa6df9",
   "metadata": {},
   "outputs": [],
   "source": [
    "import pandas as pd\n",
    "import numpy as np"
   ]
  },
  {
   "cell_type": "code",
   "execution_count": 7,
   "id": "dafc00f7",
   "metadata": {},
   "outputs": [
    {
     "data": {
      "text/html": [
       "<div>\n",
       "<style scoped>\n",
       "    .dataframe tbody tr th:only-of-type {\n",
       "        vertical-align: middle;\n",
       "    }\n",
       "\n",
       "    .dataframe tbody tr th {\n",
       "        vertical-align: top;\n",
       "    }\n",
       "\n",
       "    .dataframe thead th {\n",
       "        text-align: right;\n",
       "    }\n",
       "</style>\n",
       "<table border=\"1\" class=\"dataframe\">\n",
       "  <thead>\n",
       "    <tr style=\"text-align: right;\">\n",
       "      <th></th>\n",
       "      <th>语文</th>\n",
       "      <th>数学</th>\n",
       "      <th>英语</th>\n",
       "      <th>物理</th>\n",
       "    </tr>\n",
       "  </thead>\n",
       "  <tbody>\n",
       "    <tr>\n",
       "      <th>2001</th>\n",
       "      <td>62</td>\n",
       "      <td>30</td>\n",
       "      <td>99</td>\n",
       "      <td>88</td>\n",
       "    </tr>\n",
       "    <tr>\n",
       "      <th>2002</th>\n",
       "      <td>68</td>\n",
       "      <td>78</td>\n",
       "      <td>87</td>\n",
       "      <td>44</td>\n",
       "    </tr>\n",
       "    <tr>\n",
       "      <th>2003</th>\n",
       "      <td>60</td>\n",
       "      <td>65</td>\n",
       "      <td>38</td>\n",
       "      <td>87</td>\n",
       "    </tr>\n",
       "    <tr>\n",
       "      <th>2004</th>\n",
       "      <td>99</td>\n",
       "      <td>96</td>\n",
       "      <td>28</td>\n",
       "      <td>31</td>\n",
       "    </tr>\n",
       "    <tr>\n",
       "      <th>2005</th>\n",
       "      <td>54</td>\n",
       "      <td>59</td>\n",
       "      <td>1</td>\n",
       "      <td>85</td>\n",
       "    </tr>\n",
       "    <tr>\n",
       "      <th>2006</th>\n",
       "      <td>51</td>\n",
       "      <td>90</td>\n",
       "      <td>33</td>\n",
       "      <td>88</td>\n",
       "    </tr>\n",
       "  </tbody>\n",
       "</table>\n",
       "</div>"
      ],
      "text/plain": [
       "      语文  数学  英语  物理\n",
       "2001  62  30  99  88\n",
       "2002  68  78  87  44\n",
       "2003  60  65  38  87\n",
       "2004  99  96  28  31\n",
       "2005  54  59   1  85\n",
       "2006  51  90  33  88"
      ]
     },
     "execution_count": 7,
     "metadata": {},
     "output_type": "execute_result"
    }
   ],
   "source": [
    "# 创建 DateFrame\n",
    "df1 = pd.DataFrame(\n",
    "    data,  # 二维数据\n",
    "    index=row_index,  # 行索引标签\n",
    "    columns=col_index  # 列标签\n",
    ")\n",
    "df1"
   ]
  },
  {
   "cell_type": "code",
   "execution_count": 17,
   "id": "0a4453d7-b171-4667-8a8c-ff98d9292d01",
   "metadata": {},
   "outputs": [
    {
     "name": "stdout",
     "output_type": "stream",
     "text": [
      "df1的形状 (6, 4)\n",
      "df1的维度 2\n",
      "df1的行索引 Index(['2001', '2002', '2003', '2004', '2005', '2006'], dtype='object')\n",
      "df1的列名称 Index(['语文', '数学', '英语', '物理'], dtype='object')\n",
      "df1的值\n",
      " [[62 30 99 88]\n",
      " [68 78 87 44]\n",
      " [60 65 38 87]\n",
      " [99 96 28 31]\n",
      " [54 59  1 85]\n",
      " [51 90 33 88]]\n",
      "df1的数据类型:\n",
      " 语文    int32\n",
      "数学    int32\n",
      "英语    int32\n",
      "物理    int32\n",
      "dtype: object\n"
     ]
    }
   ],
   "source": [
    "print('df1的形状',df1.shape)\n",
    "print('df1的维度',df1.ndim)\n",
    "print('df1的行索引',df1.index)\n",
    "print('df1的列名称',df1.columns)\n",
    "print('df1的值\\n',df1.values)\n",
    "print('df1的数据类型:\\n',df1.dtypes)"
   ]
  },
  {
   "cell_type": "code",
   "execution_count": 22,
   "id": "ce05e895-f39b-4392-8def-7bea8b8b7fca",
   "metadata": {},
   "outputs": [
    {
     "data": {
      "text/plain": [
       "numpy.ndarray"
      ]
     },
     "execution_count": 22,
     "metadata": {},
     "output_type": "execute_result"
    }
   ],
   "source": [
    "type(df1.values)"
   ]
  },
  {
   "cell_type": "code",
   "execution_count": null,
   "id": "472810b5-5585-4054-9af4-d74b3f5c3553",
   "metadata": {},
   "outputs": [],
   "source": []
  },
  {
   "cell_type": "code",
   "execution_count": null,
   "id": "7c661d1e-fc97-453c-b781-fe96700a7c27",
   "metadata": {},
   "outputs": [],
   "source": []
  }
 ],
 "metadata": {
  "kernelspec": {
   "display_name": "Python 3 (ipykernel)",
   "language": "python",
   "name": "python3"
  },
  "language_info": {
   "codemirror_mode": {
    "name": "ipython",
    "version": 3
   },
   "file_extension": ".py",
   "mimetype": "text/x-python",
   "name": "python",
   "nbconvert_exporter": "python",
   "pygments_lexer": "ipython3",
   "version": "3.13.0"
  },
  "toc": {
   "base_numbering": 1,
   "nav_menu": {},
   "number_sections": true,
   "sideBar": true,
   "skip_h1_title": false,
   "title_cell": "Table of Contents",
   "title_sidebar": "Contents",
   "toc_cell": false,
   "toc_position": {},
   "toc_section_display": true,
   "toc_window_display": false
  },
  "widgets": {
   "application/vnd.jupyter.widget-state+json": {
    "state": {},
    "version_major": 2,
    "version_minor": 0
   }
  }
 },
 "nbformat": 4,
 "nbformat_minor": 5
}
