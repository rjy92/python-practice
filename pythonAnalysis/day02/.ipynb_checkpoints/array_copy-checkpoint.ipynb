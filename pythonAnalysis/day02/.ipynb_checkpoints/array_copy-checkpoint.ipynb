{
 "cells": [
  {
   "cell_type": "code",
   "execution_count": 9,
   "id": "d9e0edb7-cbb6-453f-bed1-b343cd7b5bf5",
   "metadata": {},
   "outputs": [
    {
     "name": "stdout",
     "output_type": "stream",
     "text": [
      "原始数据:\n",
      "0     1\n",
      "1    10\n",
      "2     3\n",
      "3     4\n",
      "dtype: object\n",
      "\n",
      "新创建的Series:\n",
      "0     1\n",
      "1    10\n",
      "2     3\n",
      "3     4\n",
      "dtype: object\n"
     ]
    }
   ],
   "source": [
    "import pandas as pd\n",
    "# 创建原始的Series\n",
    "data = pd.Series([1, 2, 3, 4], dtype=str)\n",
    "# copy方法有一个可选参数deep，默认为True，\n",
    "# 表示执行深拷贝操作。\n",
    "# 当deep参数为False时，执行浅拷贝操作。 \n",
    "# 创建一个新的Series，并设置copy=True\n",
    "new_data = data.copy(deep=False)\n",
    "# 修改原始数据\n",
    "data[1] = '10' \n",
    "# 输出原始数据和新创建的Series\n",
    "print(\"原始数据:\")\n",
    "print(data)\n",
    "print(\"\\n新创建的Series:\")\n",
    "print(new_data)"
   ]
  }
 ],
 "metadata": {
  "kernelspec": {
   "display_name": "Python 3 (ipykernel)",
   "language": "python",
   "name": "python3"
  },
  "language_info": {
   "codemirror_mode": {
    "name": "ipython",
    "version": 3
   },
   "file_extension": ".py",
   "mimetype": "text/x-python",
   "name": "python",
   "nbconvert_exporter": "python",
   "pygments_lexer": "ipython3",
   "version": "3.9.13"
  }
 },
 "nbformat": 4,
 "nbformat_minor": 5
}
