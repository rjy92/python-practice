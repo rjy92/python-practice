{
 "cells": [
  {
   "cell_type": "markdown",
   "id": "688b45dc",
   "metadata": {},
   "source": [
    "# pandas之Series"
   ]
  },
  {
   "cell_type": "code",
   "execution_count": 4,
   "id": "bf603704",
   "metadata": {},
   "outputs": [],
   "source": [
    "# 导入 pandas 取别名为pd\n",
    "import pandas as pd\n",
    "# 忽略警告\n",
    "import warnings\n",
    "warnings.filterwarnings('ignore')"
   ]
  },
  {
   "cell_type": "code",
   "execution_count": 6,
   "id": "780b0548",
   "metadata": {
    "scrolled": true
   },
   "outputs": [
    {
     "data": {
      "text/plain": [
       "0    11\n",
       "1    22\n",
       "2    33\n",
       "3    44\n",
       "dtype: int64"
      ]
     },
     "execution_count": 6,
     "metadata": {},
     "output_type": "execute_result"
    }
   ],
   "source": [
    "# 创建 pandas 的 Series 一维数组\n",
    "data = [11, 22, 33, 44]\n",
    "s1 = pd.Series(data)\n",
    "s1"
   ]
  },
  {
   "cell_type": "code",
   "execution_count": 7,
   "id": "2da9557c",
   "metadata": {
    "scrolled": true
   },
   "outputs": [
    {
     "data": {
      "text/plain": [
       "a    11\n",
       "b    22\n",
       "c    33\n",
       "d    44\n",
       "dtype: int64"
      ]
     },
     "execution_count": 7,
     "metadata": {},
     "output_type": "execute_result"
    }
   ],
   "source": [
    "s2 = pd.Series(data, \n",
    "               index=['a','b','c','d'])  # 指定Series的索引\n",
    "s2"
   ]
  },
  {
   "cell_type": "code",
   "execution_count": 9,
   "id": "edbed2df",
   "metadata": {},
   "outputs": [
    {
     "data": {
      "text/plain": [
       "a    11.0\n",
       "b    22.0\n",
       "c    33.0\n",
       "d    44.0\n",
       "Name: price, dtype: float64"
      ]
     },
     "execution_count": 9,
     "metadata": {},
     "output_type": "execute_result"
    }
   ],
   "source": [
    "s3 = pd.Series(\n",
    "    data,\n",
    "    index = ['a', 'b', 'c', 'd'],  # 索引\n",
    "    dtype=float,  # 类型\n",
    "    name=\"price\")  # 名字\n",
    "s3"
   ]
  },
  {
   "cell_type": "code",
   "execution_count": 24,
   "id": "6def5089",
   "metadata": {},
   "outputs": [
    {
     "data": {
      "text/plain": [
       "a    111\n",
       "b    222\n",
       "c    333\n",
       "d    444\n",
       "dtype: int64"
      ]
     },
     "execution_count": 24,
     "metadata": {},
     "output_type": "execute_result"
    }
   ],
   "source": [
    "s4 = pd.Series([111, 222, 333, 444],\n",
    "               index = ['a', 'b', 'c', 'd'])\n",
    "s4"
   ]
  },
  {
   "cell_type": "code",
   "execution_count": 25,
   "id": "91e0d2f4",
   "metadata": {},
   "outputs": [
    {
     "data": {
      "text/plain": [
       "['a', 'b', 'c', 'd']"
      ]
     },
     "execution_count": 25,
     "metadata": {},
     "output_type": "execute_result"
    }
   ],
   "source": [
    "list('abcd')"
   ]
  },
  {
   "cell_type": "code",
   "execution_count": 26,
   "id": "912a80d1",
   "metadata": {},
   "outputs": [
    {
     "data": {
      "text/plain": [
       "a    11.0\n",
       "b    22.0\n",
       "c    33.0\n",
       "d    44.0\n",
       "Name: price, dtype: float64"
      ]
     },
     "execution_count": 26,
     "metadata": {},
     "output_type": "execute_result"
    }
   ],
   "source": [
    "s3"
   ]
  },
  {
   "cell_type": "code",
   "execution_count": 27,
   "id": "bc1b92e4-faab-4c44-8609-7220c52c63c4",
   "metadata": {},
   "outputs": [
    {
     "name": "stdout",
     "output_type": "stream",
     "text": [
      "s3的形状 (4,)\n",
      "s3的维度 1\n",
      "s3的元素个数 4\n",
      "s3的名称 price\n",
      "s3的行索引 Index(['a', 'b', 'c', 'd'], dtype='object')\n",
      "s3的值 [11. 22. 33. 44.]\n",
      "s3是否为空 False\n",
      "s3数据类型 float64\n"
     ]
    }
   ],
   "source": [
    "print('s3的形状',s3.shape)\n",
    "print('s3的维度',s3.ndim)\n",
    "print('s3的元素个数',s3.size)\n",
    "print('s3的名称',s3.name)\n",
    "print('s3的行索引',s3.index)\n",
    "print('s3的值',s3.values)\n",
    "print('s3是否为空',s3.empty)\n",
    "print('s3数据类型',s3.dtype)"
   ]
  },
  {
   "cell_type": "code",
   "execution_count": 28,
   "id": "1030da06-cab7-4900-9a0b-7c2d3fd2136f",
   "metadata": {},
   "outputs": [
    {
     "data": {
      "text/plain": [
       "numpy.ndarray"
      ]
     },
     "execution_count": 28,
     "metadata": {},
     "output_type": "execute_result"
    }
   ],
   "source": [
    "type(s3.values)"
   ]
  },
  {
   "cell_type": "code",
   "execution_count": 29,
   "id": "5757e93b-cb52-4555-a211-4414d2f8db9a",
   "metadata": {},
   "outputs": [
    {
     "data": {
      "text/plain": [
       "a    111\n",
       "b    222\n",
       "c    333\n",
       "d    444\n",
       "dtype: int64"
      ]
     },
     "execution_count": 29,
     "metadata": {},
     "output_type": "execute_result"
    }
   ],
   "source": [
    "s4"
   ]
  },
  {
   "cell_type": "code",
   "execution_count": 36,
   "id": "baac0fc3-cd54-48e5-af8e-b4b0ea19d771",
   "metadata": {},
   "outputs": [
    {
     "data": {
      "text/plain": [
       "b    222\n",
       "d    444\n",
       "dtype: int64"
      ]
     },
     "execution_count": 36,
     "metadata": {},
     "output_type": "execute_result"
    }
   ],
   "source": [
    "# 得到 222 444\n",
    "s4[1::2]\n",
    "s4['b'::2]\n",
    "s4['b':'d':2] # 自定义的标签，结束值包含当前的数据\n",
    "s4[['b','d']]"
   ]
  },
  {
   "cell_type": "code",
   "execution_count": 40,
   "id": "86f5e876-a30a-4cd0-81d9-40734819464d",
   "metadata": {},
   "outputs": [
    {
     "data": {
      "text/plain": [
       "b    222\n",
       "c    333\n",
       "dtype: int64"
      ]
     },
     "execution_count": 40,
     "metadata": {},
     "output_type": "execute_result"
    }
   ],
   "source": [
    "# 得到222\n",
    "s4[1]\n",
    "s4['b']\n"
   ]
  },
  {
   "cell_type": "code",
   "execution_count": 34,
   "id": "69eeee6a-9b87-46f9-9827-2694f4348ffc",
   "metadata": {},
   "outputs": [
    {
     "data": {
      "text/plain": [
       "a    111\n",
       "d    444\n",
       "dtype: int64"
      ]
     },
     "execution_count": 34,
     "metadata": {},
     "output_type": "execute_result"
    }
   ],
   "source": [
    "s4\n",
    "# 取出>200的数据\n",
    "s4[s4>200]\n",
    "# 取出<200或者>400的数据\n",
    "s4[(s4<200)|(s4>400)]\n",
    "# >200 且<400的数据\n",
    "s4[(s4>200)&(s4<400)]"
   ]
  },
  {
   "cell_type": "code",
   "execution_count": 67,
   "id": "71d098f9-d72b-4b60-9b72-f787a88a0449",
   "metadata": {},
   "outputs": [
    {
     "data": {
      "text/plain": [
       "2    5\n",
       "3    6\n",
       "4    7\n",
       "5    8\n",
       "dtype: int64"
      ]
     },
     "execution_count": 67,
     "metadata": {},
     "output_type": "execute_result"
    }
   ],
   "source": [
    "s5=pd.Series([5,6,7,8],index=['2','3','4','5'])\n",
    "s5"
   ]
  },
  {
   "cell_type": "code",
   "execution_count": 70,
   "id": "ef89af27-1776-4143-a902-71bd8032bfcb",
   "metadata": {},
   "outputs": [
    {
     "data": {
      "text/plain": [
       "8"
      ]
     },
     "execution_count": 70,
     "metadata": {},
     "output_type": "execute_result"
    }
   ],
   "source": [
    "s5['5']"
   ]
  },
  {
   "cell_type": "code",
   "execution_count": null,
   "id": "e51cd7fe-64dc-4952-998e-04e8ac72aab3",
   "metadata": {},
   "outputs": [],
   "source": [
    "# 关于标点符号\n",
    "# . 调用\n",
    "# ，分割函数的参数  或者列表,字典，元组中的元素\n",
    "# ():函数调用和传参 定义条件  元组的开始和结束\n",
    "# : 表示代码块的开始(定义函数逻辑控制语句),切片\n",
    "# =：赋值\n",
    "# ==：判断\n",
    "# []:列表 数组 写条件访问数据 \n",
    "# {}：字典 集合 代码块开始的结束"
   ]
  },
  {
   "cell_type": "code",
   "execution_count": null,
   "id": "08f41926-5c18-455b-a6bb-697da7292ac5",
   "metadata": {},
   "outputs": [],
   "source": []
  }
 ],
 "metadata": {
  "kernelspec": {
   "display_name": "Python 3 (ipykernel)",
   "language": "python",
   "name": "python3"
  },
  "language_info": {
   "codemirror_mode": {
    "name": "ipython",
    "version": 3
   },
   "file_extension": ".py",
   "mimetype": "text/x-python",
   "name": "python",
   "nbconvert_exporter": "python",
   "pygments_lexer": "ipython3",
   "version": "3.13.0"
  },
  "toc": {
   "base_numbering": 1,
   "nav_menu": {},
   "number_sections": true,
   "sideBar": true,
   "skip_h1_title": false,
   "title_cell": "Table of Contents",
   "title_sidebar": "Contents",
   "toc_cell": false,
   "toc_position": {},
   "toc_section_display": true,
   "toc_window_display": false
  }
 },
 "nbformat": 4,
 "nbformat_minor": 5
}
