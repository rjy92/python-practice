{
 "cells": [
  {
   "cell_type": "markdown",
   "id": "358577ca",
   "metadata": {},
   "source": [
    "# Series练习2\n",
    "有一个Series如下：\n",
    "\n",
    "data_info= pd.Series(['经理', '本科', '经理 ',\n",
    "    '初中', '博士', '专科', '专科', '博士', \n",
    "    '博士', '本科','专科', '本科', '专科', '本科']\n",
    "    ,name=\"学历\")\n",
    "\n",
    "\n",
    "求出data_info中的：\n",
    "\n",
    "1. 查看各学历人数\n",
    "2. 查看各学历的占比\n",
    "3. 删除学历字段异常数据"
   ]
  },
  {
   "cell_type": "code",
   "execution_count": 1,
   "id": "2eaa6df9",
   "metadata": {},
   "outputs": [],
   "source": [
    "import pandas as pd\n",
    "import numpy as np\n",
    "\n",
    "data_info= pd.Series(\n",
    "    ['经理', '本科', '经理 ', '初中', '博士', '专科',\n",
    "     '专科', '博士', '博士', '本科','专科', '本科', '专科', '本科'],\n",
    "    name=\"学历\")"
   ]
  },
  {
   "cell_type": "markdown",
   "id": "1937c198",
   "metadata": {},
   "source": [
    "## 答案书写在此处"
   ]
  },
  {
   "cell_type": "code",
   "execution_count": 2,
   "id": "ab636fdf-9eb3-419a-bc72-0770bed7268d",
   "metadata": {},
   "outputs": [],
   "source": [
    "data_info=data_info.str.strip()\n",
    "# data_info"
   ]
  },
  {
   "cell_type": "code",
   "execution_count": 3,
   "id": "bb096489-101b-492b-a9b2-2db0bbe6a51f",
   "metadata": {},
   "outputs": [
    {
     "data": {
      "text/plain": [
       "1     本科\n",
       "3     初中\n",
       "4     博士\n",
       "5     专科\n",
       "6     专科\n",
       "7     博士\n",
       "8     博士\n",
       "9     本科\n",
       "10    专科\n",
       "11    本科\n",
       "12    专科\n",
       "13    本科\n",
       "Name: 学历, dtype: object"
      ]
     },
     "execution_count": 3,
     "metadata": {},
     "output_type": "execute_result"
    }
   ],
   "source": [
    "# 3. 删除学历字段异常数据\n",
    "data_info=data_info[~data_info.str.contains('经理')]\n",
    "data_info"
   ]
  },
  {
   "cell_type": "code",
   "execution_count": 8,
   "id": "5dc77e0d",
   "metadata": {},
   "outputs": [
    {
     "data": {
      "text/plain": [
       "学历\n",
       "本科    4\n",
       "专科    4\n",
       "博士    3\n",
       "初中    1\n",
       "Name: count, dtype: int64"
      ]
     },
     "execution_count": 8,
     "metadata": {},
     "output_type": "execute_result"
    }
   ],
   "source": [
    "# 1. 查看各学历人数\n",
    "data_info.value_counts()"
   ]
  },
  {
   "cell_type": "code",
   "execution_count": 9,
   "id": "f0b7b05d-510b-4928-aa6d-8c2fe75532a0",
   "metadata": {},
   "outputs": [
    {
     "data": {
      "text/plain": [
       "(12,)"
      ]
     },
     "execution_count": 9,
     "metadata": {},
     "output_type": "execute_result"
    }
   ],
   "source": [
    "data_info.shape"
   ]
  },
  {
   "cell_type": "code",
   "execution_count": 10,
   "id": "b0557c70",
   "metadata": {},
   "outputs": [
    {
     "data": {
      "text/plain": [
       "学历\n",
       "本科    28.57%\n",
       "专科    28.57%\n",
       "博士    21.43%\n",
       "初中     7.14%\n",
       "Name: count, dtype: object"
      ]
     },
     "execution_count": 10,
     "metadata": {},
     "output_type": "execute_result"
    }
   ],
   "source": [
    "# 2. 查看各学历的占比\n",
    "percent=((data_info.value_counts()/14)*100).round(2)\n",
    "percent.map(lambda x:str(x)+'%')"
   ]
  },
  {
   "cell_type": "code",
   "execution_count": 7,
   "id": "2e8901c7-8c47-4b0f-9793-bdc586e66a5b",
   "metadata": {},
   "outputs": [],
   "source": [
    "# data_info[data_info.isin(['本科','专科','博士','初中'])]"
   ]
  },
  {
   "cell_type": "code",
   "execution_count": null,
   "id": "6c2957f8",
   "metadata": {},
   "outputs": [],
   "source": []
  },
  {
   "cell_type": "code",
   "execution_count": null,
   "id": "601dbf59-fc1e-48d1-8270-9e5597d14683",
   "metadata": {},
   "outputs": [],
   "source": []
  },
  {
   "cell_type": "code",
   "execution_count": null,
   "id": "6f7aa4a8-2811-48cc-971d-d8f756d1419b",
   "metadata": {},
   "outputs": [],
   "source": []
  },
  {
   "cell_type": "code",
   "execution_count": null,
   "id": "e30c406e",
   "metadata": {},
   "outputs": [],
   "source": []
  },
  {
   "cell_type": "code",
   "execution_count": null,
   "id": "cabc1525",
   "metadata": {},
   "outputs": [],
   "source": []
  }
 ],
 "metadata": {
  "kernelspec": {
   "display_name": "Python 3 (ipykernel)",
   "language": "python",
   "name": "python3"
  },
  "language_info": {
   "codemirror_mode": {
    "name": "ipython",
    "version": 3
   },
   "file_extension": ".py",
   "mimetype": "text/x-python",
   "name": "python",
   "nbconvert_exporter": "python",
   "pygments_lexer": "ipython3",
   "version": "3.9.13"
  },
  "toc": {
   "base_numbering": 1,
   "nav_menu": {},
   "number_sections": true,
   "sideBar": true,
   "skip_h1_title": false,
   "title_cell": "Table of Contents",
   "title_sidebar": "Contents",
   "toc_cell": false,
   "toc_position": {},
   "toc_section_display": true,
   "toc_window_display": false
  },
  "widgets": {
   "application/vnd.jupyter.widget-state+json": {
    "state": {},
    "version_major": 2,
    "version_minor": 0
   }
  }
 },
 "nbformat": 4,
 "nbformat_minor": 5
}
