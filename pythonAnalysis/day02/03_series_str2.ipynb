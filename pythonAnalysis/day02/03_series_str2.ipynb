{
 "cells": [
  {
   "cell_type": "markdown",
   "id": "e3903055",
   "metadata": {},
   "source": [
    "# Series的字符串操作2"
   ]
  },
  {
   "cell_type": "code",
   "execution_count": 2,
   "id": "d40a63b4",
   "metadata": {
    "scrolled": true
   },
   "outputs": [
    {
     "data": {
      "text/plain": [
       "0           Tom-Zhang\n",
       "1        ====Jerry-Li\n",
       "2    ===Tyke-Xiong===\n",
       "3      Spark-Zhao====\n",
       "dtype: object"
      ]
     },
     "execution_count": 2,
     "metadata": {},
     "output_type": "execute_result"
    }
   ],
   "source": [
    "import pandas as pd\n",
    "data = ['Tom-Zhang', '====Jerry-Li',\n",
    "        '===Tyke-Xiong===',  'Spark-Zhao====']\n",
    "s2 = pd.Series(data)\n",
    "s2  # 某些字符串的两侧有等号（=）"
   ]
  },
  {
   "cell_type": "code",
   "execution_count": 5,
   "id": "66831674",
   "metadata": {},
   "outputs": [
    {
     "data": {
      "text/plain": [
       "0     Tom-Zhang\n",
       "1      Jerry-Li\n",
       "2    Tyke-Xiong\n",
       "3    Spark-Zhao\n",
       "dtype: object"
      ]
     },
     "execution_count": 5,
     "metadata": {},
     "output_type": "execute_result"
    }
   ],
   "source": [
    "# 去掉首尾的特殊字符\n",
    "s2=s2.str.strip('=')\n",
    "s2"
   ]
  },
  {
   "cell_type": "code",
   "execution_count": 7,
   "id": "c3ab9607-bb4e-4209-8b17-4b650d075faf",
   "metadata": {},
   "outputs": [
    {
     "data": {
      "text/plain": [
       "0     Tom Zhang\n",
       "1      Jerry Li\n",
       "2    Tyke Xiong\n",
       "3    Spark Zhao\n",
       "dtype: object"
      ]
     },
     "execution_count": 7,
     "metadata": {},
     "output_type": "execute_result"
    }
   ],
   "source": [
    "# 将每一个的-替换为空格\n",
    "s2=s2.str.replace('-',' ')\n",
    "s2"
   ]
  },
  {
   "cell_type": "code",
   "execution_count": 13,
   "id": "d3610295-1645-4f33-ab9e-035b737102a2",
   "metadata": {},
   "outputs": [
    {
     "data": {
      "text/plain": [
       "1    Jerry Li\n",
       "dtype: object"
      ]
     },
     "execution_count": 13,
     "metadata": {},
     "output_type": "execute_result"
    }
   ],
   "source": [
    "# 数据中是否包含rr\n",
    "s2[s2.str.contains('rr')]"
   ]
  },
  {
   "cell_type": "code",
   "execution_count": 20,
   "id": "94805a0c-338a-446d-a5ff-df2e367b73e6",
   "metadata": {},
   "outputs": [
    {
     "data": {
      "text/plain": [
       "0     Tom Zhang\n",
       "1      Jerry Li\n",
       "2    Tyke Xiong\n",
       "3    Spark Zhao\n",
       "dtype: object"
      ]
     },
     "execution_count": 20,
     "metadata": {},
     "output_type": "execute_result"
    }
   ],
   "source": [
    "s2"
   ]
  },
  {
   "cell_type": "code",
   "execution_count": 22,
   "id": "45728767-24ec-49e5-971d-2ea62c00b4b9",
   "metadata": {},
   "outputs": [
    {
     "data": {
      "text/plain": [
       "1    Jerry Li\n",
       "dtype: object"
      ]
     },
     "execution_count": 22,
     "metadata": {},
     "output_type": "execute_result"
    }
   ],
   "source": [
    "# 查找find\n",
    "s2[s2.str.find('rr')!=-1]"
   ]
  },
  {
   "cell_type": "code",
   "execution_count": 25,
   "id": "f9a9916e-507b-49c3-8338-f826d3618211",
   "metadata": {},
   "outputs": [
    {
     "data": {
      "text/plain": [
       "1    Jerry Li\n",
       "dtype: object"
      ]
     },
     "execution_count": 25,
     "metadata": {},
     "output_type": "execute_result"
    }
   ],
   "source": [
    "# len:返回字符串长度\n",
    "# 小于9的异常\n",
    "s2[s2.str.len()<9]"
   ]
  },
  {
   "cell_type": "code",
   "execution_count": 28,
   "id": "85d8d0a4-11bf-4c0e-bcb7-e847171e5bb2",
   "metadata": {},
   "outputs": [
    {
     "data": {
      "text/plain": [
       "0     Tom Zhang\n",
       "1      Jerry Li\n",
       "2    Tyke Xiong\n",
       "3    Spark Zhao\n",
       "dtype: object"
      ]
     },
     "execution_count": 28,
     "metadata": {},
     "output_type": "execute_result"
    }
   ],
   "source": [
    "s2"
   ]
  },
  {
   "cell_type": "code",
   "execution_count": 27,
   "id": "8fc093ce-7e41-4721-9502-855dd2c34d64",
   "metadata": {},
   "outputs": [
    {
     "data": {
      "text/plain": [
       "0    0\n",
       "1    2\n",
       "2    0\n",
       "3    1\n",
       "dtype: int64"
      ]
     },
     "execution_count": 27,
     "metadata": {},
     "output_type": "execute_result"
    }
   ],
   "source": [
    "# count:某个子串出现的次数\n",
    "s2.str.count('r')"
   ]
  },
  {
   "cell_type": "code",
   "execution_count": 31,
   "id": "6bac8c12-8812-41be-a160-2b25c2903849",
   "metadata": {},
   "outputs": [
    {
     "data": {
      "text/plain": [
       "0     Tom Zhang\n",
       "1      Jerry Li\n",
       "2    Tyke Xiong\n",
       "3    Spark Zhao\n",
       "dtype: object"
      ]
     },
     "execution_count": 31,
     "metadata": {},
     "output_type": "execute_result"
    }
   ],
   "source": [
    "s2"
   ]
  },
  {
   "cell_type": "code",
   "execution_count": 32,
   "id": "b1ed1ded-8b56-418c-a556-80b40d6a99e6",
   "metadata": {},
   "outputs": [
    {
     "data": {
      "text/plain": [
       "0   -1\n",
       "1    2\n",
       "2   -1\n",
       "3   -1\n",
       "dtype: int64"
      ]
     },
     "execution_count": 32,
     "metadata": {},
     "output_type": "execute_result"
    }
   ],
   "source": [
    "s2\n",
    "s2.str.find('rr')"
   ]
  },
  {
   "cell_type": "code",
   "execution_count": 39,
   "id": "0039ef86-e639-4367-a046-3f007324b1b7",
   "metadata": {},
   "outputs": [
    {
     "data": {
      "text/html": [
       "<div>\n",
       "<style scoped>\n",
       "    .dataframe tbody tr th:only-of-type {\n",
       "        vertical-align: middle;\n",
       "    }\n",
       "\n",
       "    .dataframe tbody tr th {\n",
       "        vertical-align: top;\n",
       "    }\n",
       "\n",
       "    .dataframe thead th {\n",
       "        text-align: right;\n",
       "    }\n",
       "</style>\n",
       "<table border=\"1\" class=\"dataframe\">\n",
       "  <thead>\n",
       "    <tr style=\"text-align: right;\">\n",
       "      <th></th>\n",
       "      <th>0</th>\n",
       "      <th>1</th>\n",
       "    </tr>\n",
       "  </thead>\n",
       "  <tbody>\n",
       "    <tr>\n",
       "      <th>0</th>\n",
       "      <td>Tom</td>\n",
       "      <td>Zhang</td>\n",
       "    </tr>\n",
       "    <tr>\n",
       "      <th>1</th>\n",
       "      <td>Jerry</td>\n",
       "      <td>Li</td>\n",
       "    </tr>\n",
       "    <tr>\n",
       "      <th>2</th>\n",
       "      <td>Tyke</td>\n",
       "      <td>Xiong</td>\n",
       "    </tr>\n",
       "    <tr>\n",
       "      <th>3</th>\n",
       "      <td>Spark</td>\n",
       "      <td>Zhao</td>\n",
       "    </tr>\n",
       "  </tbody>\n",
       "</table>\n",
       "</div>"
      ],
      "text/plain": [
       "       0      1\n",
       "0    Tom  Zhang\n",
       "1  Jerry     Li\n",
       "2   Tyke  Xiong\n",
       "3  Spark   Zhao"
      ]
     },
     "execution_count": 39,
     "metadata": {},
     "output_type": "execute_result"
    }
   ],
   "source": [
    "s2.str.split(' ',expand=True)"
   ]
  },
  {
   "cell_type": "code",
   "execution_count": null,
   "id": "5f1c5cd6-2891-40d7-b6ff-baae6231d4b6",
   "metadata": {},
   "outputs": [],
   "source": [
    "            "
   ]
  },
  {
   "cell_type": "code",
   "execution_count": null,
   "id": "1b28958e-b9d4-4a82-a8a9-1df5dd098f7c",
   "metadata": {},
   "outputs": [],
   "source": []
  },
  {
   "cell_type": "code",
   "execution_count": null,
   "id": "d12824f8-72d8-4155-a2c7-f1ac670a2e83",
   "metadata": {},
   "outputs": [],
   "source": []
  },
  {
   "cell_type": "code",
   "execution_count": null,
   "id": "88a83715-7c12-4ff5-adeb-619ef83e8d46",
   "metadata": {},
   "outputs": [],
   "source": []
  },
  {
   "cell_type": "code",
   "execution_count": null,
   "id": "4d6ffb94-c61a-4671-9be3-c9aa2083aa1b",
   "metadata": {},
   "outputs": [],
   "source": []
  },
  {
   "cell_type": "code",
   "execution_count": null,
   "id": "34f9541f-9159-4e57-8481-19439a0b15ba",
   "metadata": {},
   "outputs": [],
   "source": []
  },
  {
   "cell_type": "code",
   "execution_count": null,
   "id": "2ae1b2f9-d91f-4fc2-8537-7bf66eda64e4",
   "metadata": {},
   "outputs": [],
   "source": []
  },
  {
   "cell_type": "code",
   "execution_count": null,
   "id": "13260cd8-6c24-4637-ab6c-ae566f30ec17",
   "metadata": {},
   "outputs": [],
   "source": []
  },
  {
   "cell_type": "code",
   "execution_count": null,
   "id": "e813f31c-c117-4351-b297-ce1d58adb6b7",
   "metadata": {},
   "outputs": [],
   "source": []
  }
 ],
 "metadata": {
  "kernelspec": {
   "display_name": "Python 3 (ipykernel)",
   "language": "python",
   "name": "python3"
  },
  "language_info": {
   "codemirror_mode": {
    "name": "ipython",
    "version": 3
   },
   "file_extension": ".py",
   "mimetype": "text/x-python",
   "name": "python",
   "nbconvert_exporter": "python",
   "pygments_lexer": "ipython3",
   "version": "3.13.0"
  },
  "toc": {
   "base_numbering": 1,
   "nav_menu": {},
   "number_sections": true,
   "sideBar": true,
   "skip_h1_title": false,
   "title_cell": "Table of Contents",
   "title_sidebar": "Contents",
   "toc_cell": false,
   "toc_position": {},
   "toc_section_display": true,
   "toc_window_display": false
  },
  "widgets": {
   "application/vnd.jupyter.widget-state+json": {
    "state": {},
    "version_major": 2,
    "version_minor": 0
   }
  }
 },
 "nbformat": 4,
 "nbformat_minor": 5
}
