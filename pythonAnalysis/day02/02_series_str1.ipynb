{
 "cells": [
  {
   "cell_type": "markdown",
   "id": "9667ab42",
   "metadata": {},
   "source": [
    "# Series的字符串操作"
   ]
  },
  {
   "cell_type": "code",
   "execution_count": 1,
   "id": "94de68ba",
   "metadata": {},
   "outputs": [
    {
     "data": {
      "text/plain": [
       "0       Tom\n",
       "1     Jerry\n",
       "2      Tyke\n",
       "3     Spark\n",
       "dtype: object"
      ]
     },
     "execution_count": 1,
     "metadata": {},
     "output_type": "execute_result"
    }
   ],
   "source": [
    "import pandas as pd\n",
    "data = ['Tom', 'Jerry', ' Tyke',  ' Spark']\n",
    "s1 = pd.Series(data)\n",
    "s1  # 某些字符串的两侧有空格"
   ]
  },
  {
   "cell_type": "code",
   "execution_count": null,
   "id": "8d3c5805-8fd7-415c-9473-402313f7d446",
   "metadata": {},
   "outputs": [],
   "source": []
  },
  {
   "cell_type": "code",
   "execution_count": null,
   "id": "251fc2df-fa1c-49aa-af55-c79f3a22398e",
   "metadata": {},
   "outputs": [],
   "source": []
  },
  {
   "cell_type": "code",
   "execution_count": null,
   "id": "46cf1caa-d505-48ab-95bf-4c34f19d530c",
   "metadata": {},
   "outputs": [],
   "source": []
  },
  {
   "cell_type": "code",
   "execution_count": null,
   "id": "ef6c87d5-664d-413f-b6a2-963e8dd07fcd",
   "metadata": {},
   "outputs": [],
   "source": []
  },
  {
   "cell_type": "code",
   "execution_count": null,
   "id": "a7d80106-10f0-482d-80b8-be052eb3a047",
   "metadata": {},
   "outputs": [],
   "source": []
  },
  {
   "cell_type": "code",
   "execution_count": 12,
   "id": "7394a214-8967-4cd3-8986-bee9992a318e",
   "metadata": {},
   "outputs": [
    {
     "data": {
      "text/plain": [
       "0      Tom\n",
       "1    Jerry\n",
       "2     Tyke\n",
       "3    Spark\n",
       "dtype: object"
      ]
     },
     "execution_count": 12,
     "metadata": {},
     "output_type": "execute_result"
    }
   ],
   "source": [
    "# 去除首尾空格\n",
    "s1=s1.str.strip()\n",
    "s1"
   ]
  },
  {
   "cell_type": "code",
   "execution_count": 13,
   "id": "0a309700-88e2-4cc7-9950-f53ac1d8d712",
   "metadata": {},
   "outputs": [
    {
     "data": {
      "text/plain": [
       "0    T\n",
       "1    J\n",
       "2    T\n",
       "3    S\n",
       "dtype: object"
      ]
     },
     "execution_count": 13,
     "metadata": {},
     "output_type": "execute_result"
    }
   ],
   "source": [
    "s1.str[0]"
   ]
  },
  {
   "cell_type": "code",
   "execution_count": 8,
   "id": "b03c2dae-55f6-4c10-8f54-877449063f0d",
   "metadata": {},
   "outputs": [
    {
     "data": {
      "text/plain": [
       "0    To\n",
       "1    Je\n",
       "2    Ty\n",
       "3    Sp\n",
       "dtype: object"
      ]
     },
     "execution_count": 8,
     "metadata": {},
     "output_type": "execute_result"
    }
   ],
   "source": [
    "s1.str[0:2]"
   ]
  },
  {
   "cell_type": "code",
   "execution_count": null,
   "id": "bd90c646-7231-4d38-85eb-91601fc8df2d",
   "metadata": {},
   "outputs": [],
   "source": []
  }
 ],
 "metadata": {
  "kernelspec": {
   "display_name": "Python 3 (ipykernel)",
   "language": "python",
   "name": "python3"
  },
  "language_info": {
   "codemirror_mode": {
    "name": "ipython",
    "version": 3
   },
   "file_extension": ".py",
   "mimetype": "text/x-python",
   "name": "python",
   "nbconvert_exporter": "python",
   "pygments_lexer": "ipython3",
   "version": "3.13.0"
  },
  "toc": {
   "base_numbering": 1,
   "nav_menu": {},
   "number_sections": true,
   "sideBar": true,
   "skip_h1_title": false,
   "title_cell": "Table of Contents",
   "title_sidebar": "Contents",
   "toc_cell": false,
   "toc_position": {},
   "toc_section_display": true,
   "toc_window_display": false
  },
  "widgets": {
   "application/vnd.jupyter.widget-state+json": {
    "state": {},
    "version_major": 2,
    "version_minor": 0
   }
  }
 },
 "nbformat": 4,
 "nbformat_minor": 5
}
