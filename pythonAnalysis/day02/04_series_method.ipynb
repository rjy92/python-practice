{
 "cells": [
  {
   "cell_type": "markdown",
   "id": "6b53e40f",
   "metadata": {},
   "source": [
    "# Series的其他常用方法"
   ]
  },
  {
   "cell_type": "code",
   "execution_count": 2,
   "id": "2eaa6df9",
   "metadata": {},
   "outputs": [],
   "source": [
    "import pandas as pd\n",
    "import numpy as np"
   ]
  },
  {
   "cell_type": "code",
   "execution_count": 12,
   "id": "62a48d38",
   "metadata": {},
   "outputs": [
    {
     "data": {
      "text/plain": [
       "0    北京\n",
       "1    上海\n",
       "2    北京\n",
       "3    天津\n",
       "4    北京\n",
       "5    重庆\n",
       "6    上海\n",
       "7    重庆\n",
       "dtype: object"
      ]
     },
     "execution_count": 12,
     "metadata": {},
     "output_type": "execute_result"
    }
   ],
   "source": [
    "s1 = pd.Series(\n",
    "    ['北京', '上海', '北京', '天津',\n",
    "      '北京', '重庆', '上海', '重庆'])\n",
    "s1"
   ]
  },
  {
   "cell_type": "code",
   "execution_count": 4,
   "id": "c738a0cc-ce82-4d19-8a56-273cc766cc56",
   "metadata": {},
   "outputs": [
    {
     "data": {
      "text/plain": [
       "一月    11\n",
       "二月    22\n",
       "三月    33\n",
       "四月    44\n",
       "五月    55\n",
       "dtype: int64"
      ]
     },
     "execution_count": 4,
     "metadata": {},
     "output_type": "execute_result"
    }
   ],
   "source": [
    "s2 = pd.Series(\n",
    "    [11, 22, 33, 44, 55], \n",
    "    index=['一月', '二月', '三月', '四月', '五月'])\n",
    "s2"
   ]
  },
  {
   "cell_type": "code",
   "execution_count": 18,
   "id": "2fa2ee3e-a833-4299-9e98-86adf79b708e",
   "metadata": {},
   "outputs": [],
   "source": [
    "# ~s1.isin(['北京','上海','杭州','深圳'])"
   ]
  },
  {
   "cell_type": "code",
   "execution_count": 19,
   "id": "1fc059f3-fc44-4e9d-b7bc-1a39e9cd5b2a",
   "metadata": {},
   "outputs": [
    {
     "data": {
      "text/plain": [
       "3    天津\n",
       "5    重庆\n",
       "7    重庆\n",
       "dtype: object"
      ]
     },
     "execution_count": 19,
     "metadata": {},
     "output_type": "execute_result"
    }
   ],
   "source": [
    "s1\n",
    "s1[~s1.isin(['北京','上海','杭州','深圳'])]\n",
    "# 得到不在列表中的城市"
   ]
  },
  {
   "cell_type": "code",
   "execution_count": 20,
   "id": "774ede13-4c5e-419d-a943-2fbda0e493ce",
   "metadata": {},
   "outputs": [
    {
     "data": {
      "text/plain": [
       "array(['北京', '上海', '天津', '重庆'], dtype=object)"
      ]
     },
     "execution_count": 20,
     "metadata": {},
     "output_type": "execute_result"
    }
   ],
   "source": [
    "# 去重\n",
    "s1.unique()"
   ]
  },
  {
   "cell_type": "code",
   "execution_count": 21,
   "id": "859e3bc1-39c2-45cd-b984-f3f3c398e8dc",
   "metadata": {},
   "outputs": [
    {
     "data": {
      "text/plain": [
       "4"
      ]
     },
     "execution_count": 21,
     "metadata": {},
     "output_type": "execute_result"
    }
   ],
   "source": [
    "# 去重之后类别的计数\n",
    "s1.nunique()"
   ]
  },
  {
   "cell_type": "code",
   "execution_count": 22,
   "id": "5d3028a4-2331-4edf-8b5f-ecf87d468986",
   "metadata": {},
   "outputs": [
    {
     "data": {
      "text/plain": [
       "北京    3\n",
       "上海    2\n",
       "重庆    2\n",
       "天津    1\n",
       "Name: count, dtype: int64"
      ]
     },
     "execution_count": 22,
     "metadata": {},
     "output_type": "execute_result"
    }
   ],
   "source": [
    "# 分类计数\n",
    "s1.value_counts()"
   ]
  },
  {
   "cell_type": "code",
   "execution_count": null,
   "id": "6cc0352d-9833-4fe0-9431-a1f9fa1619c0",
   "metadata": {},
   "outputs": [],
   "source": [
    "# 用户行为  1234\n",
    "# 1 pv  2cart 3collect 4buy"
   ]
  },
  {
   "cell_type": "code",
   "execution_count": 24,
   "id": "5cd43cc6-1a90-44ff-acea-e2eb98cead32",
   "metadata": {},
   "outputs": [],
   "source": [
    "city_map={'北京':'一线城市',\n",
    "          '上海':'一线城市',\n",
    "          '天津':'二线城市',\n",
    "          '重庆':'二线城市'}"
   ]
  },
  {
   "cell_type": "code",
   "execution_count": 25,
   "id": "44c73718-14ca-470d-8452-30efdb76ecb9",
   "metadata": {},
   "outputs": [
    {
     "data": {
      "text/plain": [
       "0    一线城市\n",
       "1    一线城市\n",
       "2    一线城市\n",
       "3    二线城市\n",
       "4    一线城市\n",
       "5    二线城市\n",
       "6    一线城市\n",
       "7    二线城市\n",
       "dtype: object"
      ]
     },
     "execution_count": 25,
     "metadata": {},
     "output_type": "execute_result"
    }
   ],
   "source": [
    "s1.map(city_map)"
   ]
  },
  {
   "cell_type": "code",
   "execution_count": 26,
   "id": "55218dbb",
   "metadata": {},
   "outputs": [
    {
     "data": {
      "text/plain": [
       "一月    11\n",
       "二月    22\n",
       "三月    33\n",
       "四月    44\n",
       "五月    55\n",
       "dtype: int64"
      ]
     },
     "execution_count": 26,
     "metadata": {},
     "output_type": "execute_result"
    }
   ],
   "source": [
    "s2 = pd.Series(\n",
    "    [11, 22, 33, 44, 55], \n",
    "    index=['一月', '二月', '三月', '四月', '五月'])\n",
    "s2"
   ]
  },
  {
   "cell_type": "code",
   "execution_count": 33,
   "id": "fa207d48-3812-451d-b38a-64e71aa9f5bc",
   "metadata": {},
   "outputs": [
    {
     "data": {
      "text/plain": [
       "一月         NaN\n",
       "二月    1.000000\n",
       "三月    0.500000\n",
       "四月    0.333333\n",
       "五月    0.250000\n",
       "dtype: float64"
      ]
     },
     "execution_count": 33,
     "metadata": {},
     "output_type": "execute_result"
    }
   ],
   "source": [
    "# 计算月环比=(本月销售额-上月销售额)/上月销售额\n",
    "(s2-s2.shift(1))/s2.shift(1)"
   ]
  },
  {
   "cell_type": "code",
   "execution_count": 32,
   "id": "b9fbd9e3-8f65-453d-8542-848c48ec9126",
   "metadata": {},
   "outputs": [
    {
     "data": {
      "text/plain": [
       "一月     NaN\n",
       "二月    11.0\n",
       "三月    22.0\n",
       "四月    33.0\n",
       "五月    44.0\n",
       "dtype: float64"
      ]
     },
     "execution_count": 32,
     "metadata": {},
     "output_type": "execute_result"
    }
   ],
   "source": [
    "# 1：向下移动1位\n",
    "# -1：向上移动1位\n",
    "s2.shift(1)"
   ]
  },
  {
   "cell_type": "code",
   "execution_count": null,
   "id": "a640d2f2-a904-49d8-b44d-d04e86dd42b0",
   "metadata": {},
   "outputs": [],
   "source": [
    "# 计算月环比=(本月销售额-上月销售额)/上月销售额\n",
    "# 本月销售额100w 上月销售额80w\n",
    "# (100-80)/80=25%  本月在上月基础上提升25%  80w*0.25=20w"
   ]
  },
  {
   "cell_type": "code",
   "execution_count": null,
   "id": "4d238672-0dbc-484f-b06b-8375c15b114d",
   "metadata": {},
   "outputs": [],
   "source": [
    "# 同比  今年5月份和去年5月份比"
   ]
  },
  {
   "cell_type": "code",
   "execution_count": null,
   "id": "9b274d5c-359d-434f-9c5c-e8353eb8cfad",
   "metadata": {},
   "outputs": [],
   "source": [
    "# 业务场景：今年5月份销售额下滑  分析原因？\n",
    "# 检查数据，-同比去年五月份，确定事件的严重性 突然下降 持续下降\n",
    "# 内部：产品  渠道  地区  人员   客户  运营(营销活动，策略调整)\n",
    "# 外部：PEST+竞品"
   ]
  },
  {
   "cell_type": "code",
   "execution_count": null,
   "id": "82bfc16d-ceb4-4330-8822-20db87954f93",
   "metadata": {},
   "outputs": [],
   "source": []
  },
  {
   "cell_type": "code",
   "execution_count": null,
   "id": "a7d20d19-df65-49ea-b64c-2e7e3c6d8480",
   "metadata": {},
   "outputs": [],
   "source": []
  },
  {
   "cell_type": "code",
   "execution_count": null,
   "id": "40b58b40-0e48-4ad7-8f15-974e5cf236fb",
   "metadata": {},
   "outputs": [],
   "source": []
  },
  {
   "cell_type": "code",
   "execution_count": null,
   "id": "9b86b3ca-fa3e-4379-ba0b-5459aacd5e2a",
   "metadata": {},
   "outputs": [],
   "source": []
  },
  {
   "cell_type": "code",
   "execution_count": null,
   "id": "8d5cbe70-4218-4ebd-bcce-ffe80d85f341",
   "metadata": {},
   "outputs": [],
   "source": []
  }
 ],
 "metadata": {
  "kernelspec": {
   "display_name": "Python 3 (ipykernel)",
   "language": "python",
   "name": "python3"
  },
  "language_info": {
   "codemirror_mode": {
    "name": "ipython",
    "version": 3
   },
   "file_extension": ".py",
   "mimetype": "text/x-python",
   "name": "python",
   "nbconvert_exporter": "python",
   "pygments_lexer": "ipython3",
   "version": "3.13.0"
  },
  "toc": {
   "base_numbering": 1,
   "nav_menu": {},
   "number_sections": true,
   "sideBar": true,
   "skip_h1_title": false,
   "title_cell": "Table of Contents",
   "title_sidebar": "Contents",
   "toc_cell": false,
   "toc_position": {},
   "toc_section_display": true,
   "toc_window_display": false
  },
  "widgets": {
   "application/vnd.jupyter.widget-state+json": {
    "state": {},
    "version_major": 2,
    "version_minor": 0
   }
  }
 },
 "nbformat": 4,
 "nbformat_minor": 5
}
