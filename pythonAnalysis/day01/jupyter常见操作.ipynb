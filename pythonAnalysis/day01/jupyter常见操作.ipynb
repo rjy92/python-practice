{
 "cells": [
  {
   "cell_type": "code",
   "execution_count": 9,
   "id": "361087c6-bb93-42cd-804a-8bede6c13e3d",
   "metadata": {},
   "outputs": [],
   "source": [
    "import numpy\n",
    "import scipy\n",
    "import matplotlib\n",
    "import pandas"
   ]
  },
  {
   "cell_type": "code",
   "execution_count": 7,
   "id": "75f7b690-3458-412f-8394-08821056861f",
   "metadata": {},
   "outputs": [],
   "source": [
    "# 编辑模式 切换成命令模式 esc切换"
   ]
  },
  {
   "cell_type": "code",
   "execution_count": null,
   "id": "098d255d-eeb9-47f7-9d90-529e77018cdb",
   "metadata": {},
   "outputs": [],
   "source": [
    "# 注意事项\n",
    "# 1、终端窗口不能关掉，如果关掉，服务就会停掉\n",
    "# 2、注意自己选择的是code还是markdown\n",
    "# 3、jupyter生成的是ipython文件，不建议采用记事本打开，\n",
    "# 需要用jupyter打开\n",
    "# 4、jupyter 里面的代码需要按照顺序 从上到下 依次执行 写上去的\n",
    "# 代码 必须执行"
   ]
  },
  {
   "cell_type": "markdown",
   "id": "98d8863b-9a34-4db9-9fcd-705b34f98f7a",
   "metadata": {},
   "source": [
    "# 数据分析项目名称                  "
   ]
  },
  {
   "cell_type": "markdown",
   "id": "a80d81de-e57d-47ea-b154-abe714fd3092",
   "metadata": {},
   "source": [
    "项目背景：为什么要做这个项目 介绍公司业务背景<br>\n",
    "项目思路：归类问题  搭建指标体系-方法论  解决问题：工具   \n",
    "（归类问题：现状分析 原因分析  预测分析）"
   ]
  },
  {
   "cell_type": "markdown",
   "id": "19ac2afd-4f61-442e-8dbd-9f8fc96db514",
   "metadata": {},
   "source": [
    "## 一、读取数据并进行描述性统计分析"
   ]
  },
  {
   "cell_type": "markdown",
   "id": "6d0c79dd-7df4-4e81-aeae-e02d18b8246e",
   "metadata": {},
   "source": [
    "数据-需求<br>\n",
    "需求-数据  课程升级  爬虫-boss、智联    输出ppt "
   ]
  },
  {
   "cell_type": "markdown",
   "id": "3771e5ba-1b3d-46f7-99cb-f019920ac60c",
   "metadata": {},
   "source": [
    "## 二、数据处理"
   ]
  },
  {
   "cell_type": "markdown",
   "id": "3a4cbf4d-45ab-4344-a88a-546d08bc3dc7",
   "metadata": {},
   "source": [
    "1. 数据合并\n",
    "2. 数据清洗：检测与处理缺失值 重复值 异常值\n",
    "3. 数据标准化处理\n",
    "4. 数据提取\n",
    "5. 数据规约"
   ]
  },
  {
   "cell_type": "markdown",
   "id": "ef373f3d-9111-417f-8dca-59d5c0323d81",
   "metadata": {},
   "source": [
    "## 三、数据探索性分析/数据建模"
   ]
  },
  {
   "cell_type": "markdown",
   "id": "7183b568-40bb-4e3b-b69c-0805685aa379",
   "metadata": {},
   "source": [
    "## 四、得出结论输出策略"
   ]
  },
  {
   "cell_type": "code",
   "execution_count": null,
   "id": "0bf9f677-8ad0-4d0b-a502-32fa3fff3b5b",
   "metadata": {},
   "outputs": [],
   "source": []
  },
  {
   "cell_type": "code",
   "execution_count": null,
   "id": "b44aebc2-072d-43a8-b97f-ae1d9090cd4d",
   "metadata": {},
   "outputs": [],
   "source": []
  },
  {
   "cell_type": "code",
   "execution_count": null,
   "id": "a9e1c00a-7e74-41f1-98c8-e2ba620e4179",
   "metadata": {},
   "outputs": [],
   "source": []
  }
 ],
 "metadata": {
  "kernelspec": {
   "display_name": "Python 3 (ipykernel)",
   "language": "python",
   "name": "python3"
  },
  "language_info": {
   "codemirror_mode": {
    "name": "ipython",
    "version": 3
   },
   "file_extension": ".py",
   "mimetype": "text/x-python",
   "name": "python",
   "nbconvert_exporter": "python",
   "pygments_lexer": "ipython3",
   "version": "3.13.0"
  }
 },
 "nbformat": 4,
 "nbformat_minor": 5
}
