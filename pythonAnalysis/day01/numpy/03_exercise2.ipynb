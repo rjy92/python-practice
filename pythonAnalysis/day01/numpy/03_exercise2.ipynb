{
 "cells": [
  {
   "cell_type": "markdown",
   "id": "4e407250",
   "metadata": {},
   "source": [
    "# 课堂练习\n",
    "\n",
    "首先创建一个二维数组,3行4列。\n",
    "\n",
    "每列为一门学科成绩：语文 数学 英语 化学，如下所示\n",
    "\n",
    "```\n",
    "data=np.array([[76, 27, 93, 67],\n",
    "               [96, 57, 83, 42],\n",
    "               [56, 35, 93, 88]])\n",
    "\n",
    "```\n",
    "\n",
    "- 练习要求：\n",
    "    1. 求出每人的总成绩\n",
    "    2. 求出每科的平均成绩\n",
    "    3. 求出语文的最低分和最高分\n",
    "    4. 求出每人的文理总分\n",
    "        - 文科:语文和英语\n",
    "        - 理科:数据和化学\n",
    "    5. 如果分数小于60,将分数变为'不及格'\n",
    "    6. 如果分数小于60,将分数变为'不及格',60~85的分数变为‘良好’,大于85的分数变为‘优秀’\n",
    "\n"
   ]
  },
  {
   "cell_type": "code",
   "execution_count": 1,
   "id": "3acd8aba",
   "metadata": {},
   "outputs": [],
   "source": [
    "import numpy as np\n",
    "data=np.array([[76, 27, 93, 67],\n",
    "               [96, 57, 83, 42],\n",
    "               [56, 35, 93, 88]])\n"
   ]
  },
  {
   "cell_type": "markdown",
   "id": "d4c986f8",
   "metadata": {},
   "source": [
    "### 答案书写如下"
   ]
  },
  {
   "cell_type": "code",
   "execution_count": 3,
   "id": "42c237f6-a5dd-48bd-a91a-e6f22423f43e",
   "metadata": {},
   "outputs": [
    {
     "data": {
      "text/plain": [
       "array([263, 278, 272])"
      ]
     },
     "execution_count": 3,
     "metadata": {},
     "output_type": "execute_result"
    }
   ],
   "source": [
    "# 1. 求出每人的总成绩\n",
    "np.sum(data,axis=1)"
   ]
  },
  {
   "cell_type": "code",
   "execution_count": 6,
   "id": "21ebb756-3c6d-4125-9190-9d6842f8ad96",
   "metadata": {},
   "outputs": [
    {
     "data": {
      "text/plain": [
       "array([76.  , 39.67, 89.67, 65.67])"
      ]
     },
     "execution_count": 6,
     "metadata": {},
     "output_type": "execute_result"
    }
   ],
   "source": [
    "# 2. 求出每科的平均成绩,小数点后2位\n",
    "np.round(np.mean(data,axis=0),2)"
   ]
  },
  {
   "cell_type": "code",
   "execution_count": 9,
   "id": "b67e5d5c-3c36-4633-b16d-dabe8de2312b",
   "metadata": {},
   "outputs": [
    {
     "data": {
      "text/plain": [
       "np.int64(96)"
      ]
     },
     "execution_count": 9,
     "metadata": {},
     "output_type": "execute_result"
    }
   ],
   "source": [
    "# 3. 求出语文的最低分和最高分\n",
    "np.min(data[:,0])\n",
    "np.max(data[:,0])"
   ]
  },
  {
   "cell_type": "code",
   "execution_count": 13,
   "id": "a45b058e-93bc-42f5-b50c-468a963d8271",
   "metadata": {},
   "outputs": [
    {
     "data": {
      "text/plain": [
       "array([169, 179, 149])"
      ]
     },
     "execution_count": 13,
     "metadata": {},
     "output_type": "execute_result"
    }
   ],
   "source": [
    "# 4. 求出每人的文理总分\n",
    "#     - 文科:语文和英语\n",
    "np.sum(data[:,::2],axis=1)\n",
    "data[:,::2].sum(axis=1)"
   ]
  },
  {
   "cell_type": "code",
   "execution_count": 23,
   "id": "199612c9-6e99-4821-be98-e1a4ae3dd31d",
   "metadata": {},
   "outputs": [
    {
     "data": {
      "text/plain": [
       "array([ 94,  99, 123])"
      ]
     },
     "execution_count": 23,
     "metadata": {},
     "output_type": "execute_result"
    }
   ],
   "source": [
    "#     - 理科:数据和化学\n",
    "data[:,1::2].sum(axis=1)"
   ]
  },
  {
   "cell_type": "code",
   "execution_count": 24,
   "id": "fc413298-8249-44fc-b1f9-b52be29751c6",
   "metadata": {},
   "outputs": [
    {
     "data": {
      "text/plain": [
       "array([['76', '不及格', '93', '67'],\n",
       "       ['96', '不及格', '83', '不及格'],\n",
       "       ['不及格', '不及格', '93', '88']], dtype='<U21')"
      ]
     },
     "execution_count": 24,
     "metadata": {},
     "output_type": "execute_result"
    }
   ],
   "source": [
    "# 5. 如果分数小于60,将分数变为'不及格'\n",
    "np.where(data<60,'不及格',data)"
   ]
  },
  {
   "cell_type": "code",
   "execution_count": 22,
   "id": "3d859c0b-2ed7-420c-ae3b-af5e6d4865aa",
   "metadata": {},
   "outputs": [
    {
     "data": {
      "text/plain": [
       "array([['良好', '不及格', '优秀', '良好'],\n",
       "       ['优秀', '不及格', '良好', '不及格'],\n",
       "       ['不及格', '不及格', '优秀', '优秀']], dtype='<U3')"
      ]
     },
     "execution_count": 22,
     "metadata": {},
     "output_type": "execute_result"
    }
   ],
   "source": [
    "# 6. 如果分数小于60,将分数变为'不及格',60~85的分数变为‘良好’,大于85的分数变为‘优秀’\n",
    "np.where(data<60,'不及格',np.where(data<85,'良好','优秀'))"
   ]
  },
  {
   "cell_type": "code",
   "execution_count": null,
   "id": "231badc2-e7ae-426a-aa26-d21c62e66942",
   "metadata": {},
   "outputs": [],
   "source": []
  }
 ],
 "metadata": {
  "kernelspec": {
   "display_name": "Python 3 (ipykernel)",
   "language": "python",
   "name": "python3"
  },
  "language_info": {
   "codemirror_mode": {
    "name": "ipython",
    "version": 3
   },
   "file_extension": ".py",
   "mimetype": "text/x-python",
   "name": "python",
   "nbconvert_exporter": "python",
   "pygments_lexer": "ipython3",
   "version": "3.13.0"
  },
  "toc": {
   "base_numbering": 1,
   "nav_menu": {},
   "number_sections": true,
   "sideBar": true,
   "skip_h1_title": false,
   "title_cell": "Table of Contents",
   "title_sidebar": "Contents",
   "toc_cell": false,
   "toc_position": {},
   "toc_section_display": true,
   "toc_window_display": false
  }
 },
 "nbformat": 4,
 "nbformat_minor": 5
}
