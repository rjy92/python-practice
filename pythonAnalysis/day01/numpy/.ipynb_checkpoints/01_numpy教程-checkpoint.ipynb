{
 "cells": [
  {
   "cell_type": "markdown",
   "id": "575705bf",
   "metadata": {},
   "source": [
    "# numpy 教程"
   ]
  },
  {
   "cell_type": "code",
   "execution_count": 1,
   "id": "171757a9",
   "metadata": {},
   "outputs": [],
   "source": [
    "# 导入 numpy 模块，取别名为 np\n",
    "import numpy as np\n"
   ]
  },
  {
   "cell_type": "markdown",
   "id": "d29e0981-2ef2-4944-a841-5468709d67d5",
   "metadata": {},
   "source": [
    "python的列表和numpy的数组区别\n",
    "1. 相同点：都是有序的，都可以根据索引访问\n",
    "2. 不同之处：\n",
    "   数值型数组可以直接进行四则运算，列表不可以。\n",
    "   列表可以存方不同类型的数据，数组存放同类型数据\n",
    "   "
   ]
  },
  {
   "cell_type": "code",
   "execution_count": 2,
   "id": "22d1cbaa-c93d-4989-90e5-17fb4fe34eb0",
   "metadata": {},
   "outputs": [],
   "source": [
    "## ndarray的创建"
   ]
  },
  {
   "cell_type": "code",
   "execution_count": 3,
   "id": "a0071d6d",
   "metadata": {},
   "outputs": [],
   "source": [
    "data  = [[11, 22, 33], [44, 55, 66]]"
   ]
  },
  {
   "cell_type": "code",
   "execution_count": 4,
   "id": "c088cb51-874b-4a4d-b998-5f8d144e4058",
   "metadata": {
    "scrolled": true
   },
   "outputs": [
    {
     "data": {
      "text/plain": [
       "list"
      ]
     },
     "execution_count": 4,
     "metadata": {},
     "output_type": "execute_result"
    }
   ],
   "source": [
    "type(data)"
   ]
  },
  {
   "cell_type": "code",
   "execution_count": 5,
   "id": "4b29e895",
   "metadata": {
    "scrolled": true
   },
   "outputs": [
    {
     "name": "stdout",
     "output_type": "stream",
     "text": [
      "[[11 22 33]\n",
      " [44 55 66]]\n"
     ]
    }
   ],
   "source": [
    "# 用已有的数据创建数组\n",
    "arr1= np.array(data)\n",
    "print(arr1)"
   ]
  },
  {
   "cell_type": "markdown",
   "id": "56689d44",
   "metadata": {},
   "source": [
    "### 创建等差数列的一维数组"
   ]
  },
  {
   "cell_type": "code",
   "execution_count": 6,
   "id": "066666bd",
   "metadata": {},
   "outputs": [
    {
     "data": {
      "text/plain": [
       "array([ 2,  6, 10, 14, 18, 22, 26])"
      ]
     },
     "execution_count": 6,
     "metadata": {},
     "output_type": "execute_result"
    }
   ],
   "source": [
    "# 从2开始，30结束，步长尾4的一维的等差数组\n",
    "# 前闭后开区间\n",
    "np.arange(2,30,4)"
   ]
  },
  {
   "cell_type": "code",
   "execution_count": 7,
   "id": "2614f8b5",
   "metadata": {},
   "outputs": [
    {
     "data": {
      "text/plain": [
       "(array([ 1. ,  5.5, 10. ]), np.float64(4.5))"
      ]
     },
     "execution_count": 7,
     "metadata": {},
     "output_type": "execute_result"
    }
   ],
   "source": [
    "# 1,10生成等差数组，并显示间距\n",
    "np.linspace(1,10,3,retstep=True)"
   ]
  },
  {
   "cell_type": "markdown",
   "id": "cd188c5e",
   "metadata": {},
   "source": [
    "### 利用随机函数创建数组\n"
   ]
  },
  {
   "cell_type": "code",
   "execution_count": 8,
   "id": "d504db01",
   "metadata": {},
   "outputs": [],
   "source": [
    "# 随机种子，要求是整数\n",
    "# 作用：固定一组随机结果，数字随便取\n",
    "# 一个数字代表一个固定的结果\n",
    "np.random.seed(123)"
   ]
  },
  {
   "cell_type": "code",
   "execution_count": 9,
   "id": "f110b215",
   "metadata": {},
   "outputs": [
    {
     "data": {
      "text/plain": [
       "array([0.69646919, 0.28613933, 0.22685145, 0.55131477, 0.71946897,\n",
       "       0.42310646, 0.9807642 , 0.68482974, 0.4809319 , 0.39211752])"
      ]
     },
     "execution_count": 9,
     "metadata": {},
     "output_type": "execute_result"
    }
   ],
   "source": [
    "# 创建 10 个 0～1 之间均匀分布的随机小数\n",
    "np.random.rand(10)"
   ]
  },
  {
   "cell_type": "code",
   "execution_count": 10,
   "id": "4f835557-bec7-4550-8cdc-6f5a55df81e3",
   "metadata": {},
   "outputs": [
    {
     "data": {
      "text/plain": [
       "array([0.7 , 0.29, 0.23, 0.55, 0.72, 0.42, 0.98, 0.68, 0.48, 0.39])"
      ]
     },
     "execution_count": 10,
     "metadata": {},
     "output_type": "execute_result"
    }
   ],
   "source": [
    "np.random.seed(123)\n",
    "# np.round() 小数位数保留几位，针对浮点型\n",
    "# rand默认0，1之间\n",
    "np.round(np.random.rand(10),2)\n",
    "\n"
   ]
  },
  {
   "cell_type": "code",
   "execution_count": 11,
   "id": "4e48d860-b087-48a7-84fb-e47b67a846bb",
   "metadata": {},
   "outputs": [
    {
     "data": {
      "text/plain": [
       "array([13.43178016, 17.29049707, 14.38572245, 10.59677897, 13.98044255,\n",
       "       17.37995406, 11.8249173 , 11.75451756, 15.31551374, 15.31827587])"
      ]
     },
     "execution_count": 11,
     "metadata": {},
     "output_type": "execute_result"
    }
   ],
   "source": [
    "#10-20之间的随机数\n",
    "np.random.rand(10)*10+10"
   ]
  },
  {
   "cell_type": "code",
   "execution_count": 12,
   "id": "12e38d75-a44e-46e3-af2d-1a51c48f6336",
   "metadata": {},
   "outputs": [
    {
     "data": {
      "text/plain": [
       "array([18, 10, 17, 19, 13, 14, 16, 11, 15, 16])"
      ]
     },
     "execution_count": 12,
     "metadata": {},
     "output_type": "execute_result"
    }
   ],
   "source": [
    "#10-20之间的随机整数\n",
    "np.random.randint(10,21,size=10)"
   ]
  },
  {
   "cell_type": "code",
   "execution_count": 13,
   "id": "e7b1df03",
   "metadata": {},
   "outputs": [
    {
     "name": "stdout",
     "output_type": "stream",
     "text": [
      "0.00971189229159596\n",
      "0.9981138545901473\n"
     ]
    }
   ],
   "source": [
    "# 标准正态分布 (均值为0,标准差为1）\n",
    "np.random.seed(123)\n",
    "data1 = np.random.randn(10000)\n",
    "# 验证均值\n",
    "print(data1.mean())\n",
    "# 验证标准差\n",
    "print(data1.std())"
   ]
  },
  {
   "cell_type": "code",
   "execution_count": 14,
   "id": "818c9dfd",
   "metadata": {},
   "outputs": [
    {
     "data": {
      "text/plain": [
       "array([3, 6, 5, 4, 5, 4, 3, 2, 2, 4])"
      ]
     },
     "execution_count": 14,
     "metadata": {},
     "output_type": "execute_result"
    }
   ],
   "source": [
    "# 生成 [low, hight) 的随机整数\n",
    "# 模拟十次掷骰子的结果\n",
    "np.random.randint(1,7,10)\n"
   ]
  },
  {
   "cell_type": "code",
   "execution_count": 15,
   "id": "7476ac2a",
   "metadata": {},
   "outputs": [
    {
     "data": {
      "text/plain": [
       "array([4.83536403, 2.22268593, 2.3234091 , 3.05126745, 4.43396177,\n",
       "       5.1006446 , 6.55426691, 1.68901819, 5.18878795, 6.05038769])"
      ]
     },
     "execution_count": 15,
     "metadata": {},
     "output_type": "execute_result"
    }
   ],
   "source": [
    "# 生成一定范围内，\n",
    "# 均匀分布的1~7内的10个浮点数\n",
    "np.random.uniform(1,7,10)"
   ]
  },
  {
   "cell_type": "code",
   "execution_count": 16,
   "id": "6c0de27d",
   "metadata": {},
   "outputs": [
    {
     "data": {
      "text/plain": [
       "array([65.27575276, 70.2524402 , 66.45123525, 76.19615877, 70.01954605,\n",
       "       68.9828752 , 70.11657447, 72.85888586, 78.43349496, 71.83872588])"
      ]
     },
     "execution_count": 16,
     "metadata": {},
     "output_type": "execute_result"
    }
   ],
   "source": [
    "# 生成期望值为 loc, 标准差为scale 的正态分布的随机数\n",
    "# 模拟生成平均分 70,  准差为5分10个的学生成绩\n",
    "np.random.normal(loc=70,scale=5,size=10)\n",
    "# np.random.normal(loc=70,scale=5,size=(4,5))"
   ]
  },
  {
   "cell_type": "markdown",
   "id": "47bcd278",
   "metadata": {},
   "source": [
    "## ndarray数组的属性"
   ]
  },
  {
   "cell_type": "code",
   "execution_count": 17,
   "id": "0be2bb93",
   "metadata": {
    "scrolled": true
   },
   "outputs": [],
   "source": [
    "arr3 = np.array([(1, 2, 3), (4, 5, 6)])"
   ]
  },
  {
   "cell_type": "code",
   "execution_count": 18,
   "id": "cf652c32-44ba-4747-acd6-8f5fe852b4f2",
   "metadata": {},
   "outputs": [
    {
     "name": "stdout",
     "output_type": "stream",
     "text": [
      "数组形状 (2, 3)\n",
      "数组维度 2\n",
      "数组类型 int64\n",
      "数组元素个数 6\n"
     ]
    }
   ],
   "source": [
    "print('数组形状',arr3.shape)\n",
    "print('数组维度',arr3.ndim)\n",
    "print('数组类型',arr3.dtype)\n",
    "print('数组元素个数',arr3.size)"
   ]
  },
  {
   "cell_type": "markdown",
   "id": "25116b14",
   "metadata": {},
   "source": [
    "## ndarray数组类型"
   ]
  },
  {
   "cell_type": "code",
   "execution_count": 19,
   "id": "a54b5619",
   "metadata": {},
   "outputs": [
    {
     "name": "stdout",
     "output_type": "stream",
     "text": [
      "数组类型 float64\n"
     ]
    }
   ],
   "source": [
    "arrr4 = arr3.astype(float)\n",
    "print('数组类型',arrr4.dtype)"
   ]
  },
  {
   "cell_type": "markdown",
   "id": "1367c691",
   "metadata": {},
   "source": [
    "## 修改数组的维度"
   ]
  },
  {
   "cell_type": "code",
   "execution_count": 20,
   "id": "1a7d3aa1",
   "metadata": {},
   "outputs": [
    {
     "name": "stdout",
     "output_type": "stream",
     "text": [
      "[[1 2]\n",
      " [3 4]\n",
      " [5 6]]\n"
     ]
    }
   ],
   "source": [
    "# 用arr3 生成新的3行2列的数组\n",
    "arr3_res = arr3.reshape(3,2)\n",
    "print(arr3_res)"
   ]
  },
  {
   "cell_type": "code",
   "execution_count": 21,
   "id": "d6d89b79",
   "metadata": {
    "scrolled": true
   },
   "outputs": [
    {
     "name": "stdout",
     "output_type": "stream",
     "text": [
      "[1 2 3 4 5 6] [1 2 3 4 5 6]\n"
     ]
    }
   ],
   "source": [
    "# 用arr3生成一个一维数组\n",
    "arr3_ravel = arr3.ravel()\n",
    "arr3_ravel2 = np.ravel(arr3)\n",
    "print(arr3_ravel,arr3_ravel2)"
   ]
  },
  {
   "cell_type": "markdown",
   "id": "d0dccc0f",
   "metadata": {},
   "source": [
    "## ndarray的运算"
   ]
  },
  {
   "cell_type": "code",
   "execution_count": 22,
   "id": "7f9a9562",
   "metadata": {},
   "outputs": [
    {
     "data": {
      "text/plain": [
       "array([[1, 2, 3],\n",
       "       [4, 5, 6]])"
      ]
     },
     "execution_count": 22,
     "metadata": {},
     "output_type": "execute_result"
    }
   ],
   "source": [
    "arr4 = np.array([[1, 2, 3], [4, 5, 6]])\n",
    "arr4"
   ]
  },
  {
   "cell_type": "code",
   "execution_count": 23,
   "id": "d756ed89",
   "metadata": {},
   "outputs": [
    {
     "data": {
      "text/plain": [
       "array([[6, 5, 4],\n",
       "       [3, 2, 1]])"
      ]
     },
     "execution_count": 23,
     "metadata": {},
     "output_type": "execute_result"
    }
   ],
   "source": [
    "arr5 = np.array([[6, 5, 4], [3, 2, 1]])\n",
    "arr5"
   ]
  },
  {
   "cell_type": "code",
   "execution_count": 24,
   "id": "82a1c3b3",
   "metadata": {},
   "outputs": [
    {
     "data": {
      "text/plain": [
       "array([[0, 0, 0],\n",
       "       [1, 2, 6]])"
      ]
     },
     "execution_count": 24,
     "metadata": {},
     "output_type": "execute_result"
    }
   ],
   "source": [
    "arr4+arr5\n",
    "arr4-arr5\n",
    "arr4*arr5\n",
    "arr4/arr5\n",
    "arr4//arr5\n",
    "# arr4%arr5\n",
    "# arr4**arr5"
   ]
  },
  {
   "cell_type": "markdown",
   "id": "1bd38f68",
   "metadata": {},
   "source": [
    "## ndarray的广播运算"
   ]
  },
  {
   "cell_type": "code",
   "execution_count": 25,
   "id": "37d37553",
   "metadata": {},
   "outputs": [
    {
     "data": {
      "text/plain": [
       "array([[ 2,  4,  6],\n",
       "       [ 8, 10, 12]])"
      ]
     },
     "execution_count": 25,
     "metadata": {},
     "output_type": "execute_result"
    }
   ],
   "source": [
    "arr4 * 2\n"
   ]
  },
  {
   "cell_type": "markdown",
   "id": "53c59594",
   "metadata": {},
   "source": [
    "## ndarray的索引和切片运算"
   ]
  },
  {
   "cell_type": "code",
   "execution_count": 26,
   "id": "09cad37e",
   "metadata": {},
   "outputs": [
    {
     "data": {
      "text/plain": [
       "array([ 1,  2,  3, -1,  5])"
      ]
     },
     "execution_count": 26,
     "metadata": {},
     "output_type": "execute_result"
    }
   ],
   "source": [
    "# 一维的数组\n",
    "arr1d = np.array([1, 2, 3, -1, 5])\n",
    "arr1d"
   ]
  },
  {
   "cell_type": "code",
   "execution_count": 27,
   "id": "151e81d7",
   "metadata": {},
   "outputs": [
    {
     "data": {
      "text/plain": [
       "array([1, 3, 5])"
      ]
     },
     "execution_count": 27,
     "metadata": {},
     "output_type": "execute_result"
    }
   ],
   "source": [
    "arr1d[0::2]"
   ]
  },
  {
   "cell_type": "code",
   "execution_count": 43,
   "id": "c14fd2de",
   "metadata": {},
   "outputs": [
    {
     "data": {
      "text/plain": [
       "array([5, 3, 1])"
      ]
     },
     "execution_count": 43,
     "metadata": {},
     "output_type": "execute_result"
    }
   ],
   "source": [
    "# 得到-1\n",
    "arr1d[3]\n",
    "arr1d[-2]\n",
    "# 得到[5,3,1]\n",
    "arr1d[-1::-2]"
   ]
  },
  {
   "cell_type": "code",
   "execution_count": null,
   "id": "1ec0885c",
   "metadata": {},
   "outputs": [],
   "source": []
  },
  {
   "cell_type": "code",
   "execution_count": 28,
   "id": "3a023fad",
   "metadata": {
    "scrolled": true
   },
   "outputs": [
    {
     "data": {
      "text/plain": [
       "array([[  1,  -2,  -3,   4],\n",
       "       [  5,   6,   7,   8],\n",
       "       [  9,  -1, -11,  12]])"
      ]
     },
     "execution_count": 28,
     "metadata": {},
     "output_type": "execute_result"
    }
   ],
   "source": [
    "# 二维的数组\n",
    "arr2d = np.array([[1, -2, -3, 4],\n",
    "                  [5, 6, 7, 8],\n",
    "                  [9, -1, -11, 12]])\n",
    "arr2d"
   ]
  },
  {
   "cell_type": "code",
   "execution_count": 45,
   "id": "cc6618d0",
   "metadata": {},
   "outputs": [
    {
     "data": {
      "text/plain": [
       "np.int64(7)"
      ]
     },
     "execution_count": 45,
     "metadata": {},
     "output_type": "execute_result"
    }
   ],
   "source": [
    "arr2d[1][2]\n",
    "arr2d[1,2]"
   ]
  },
  {
   "cell_type": "code",
   "execution_count": 46,
   "id": "d0369dc7",
   "metadata": {},
   "outputs": [
    {
     "data": {
      "text/plain": [
       "array([[  6,   7],\n",
       "       [ -1, -11]])"
      ]
     },
     "execution_count": 46,
     "metadata": {},
     "output_type": "execute_result"
    }
   ],
   "source": [
    "# 取出第二行起的第二、第三列\n",
    "arr2d[1:,1:3]"
   ]
  },
  {
   "cell_type": "code",
   "execution_count": 50,
   "id": "1203d5a4-f7a5-4dff-8ba9-0592b56c0fb1",
   "metadata": {},
   "outputs": [
    {
     "data": {
      "text/plain": [
       "array([[ 1,  4],\n",
       "       [ 9, 12]])"
      ]
     },
     "execution_count": 50,
     "metadata": {},
     "output_type": "execute_result"
    }
   ],
   "source": [
    "# [[1,4],\n",
    "#  [9,12]]\n",
    "\n",
    "arr2d[::2,::3]"
   ]
  },
  {
   "cell_type": "code",
   "execution_count": 55,
   "id": "32345ec9-447d-4d56-98dc-56a5274ecf82",
   "metadata": {},
   "outputs": [
    {
     "data": {
      "text/plain": [
       "array([ 4,  8, 12])"
      ]
     },
     "execution_count": 55,
     "metadata": {},
     "output_type": "execute_result"
    }
   ],
   "source": [
    "# [[-2,-3],\n",
    "#  [6,7]]\n",
    "arr2d[:2,1:3]\n",
    "# 只有行[5,6,7,8],逗号后面可以省略\n",
    "arr2d[1]\n",
    "arr2d[1:]\n",
    "# 只有列[4,8,12]，逗号前面不  可以省略\n",
    "arr2d[:,3]"
   ]
  },
  {
   "cell_type": "markdown",
   "id": "fde731c2",
   "metadata": {},
   "source": [
    "## ndarray的掩码数组"
   ]
  },
  {
   "cell_type": "code",
   "execution_count": 56,
   "id": "f3ce6a40",
   "metadata": {},
   "outputs": [],
   "source": [
    "# 学生成绩\n",
    "scores = np.array([99, 61, 28, 81, 59])"
   ]
  },
  {
   "cell_type": "code",
   "execution_count": 57,
   "id": "3080533e",
   "metadata": {
    "scrolled": true
   },
   "outputs": [
    {
     "data": {
      "text/plain": [
       "array([ True,  True, False,  True, False])"
      ]
     },
     "execution_count": 57,
     "metadata": {},
     "output_type": "execute_result"
    }
   ],
   "source": [
    "mask1 = np.array([True, True, False, True, False])\n",
    "mask1"
   ]
  },
  {
   "cell_type": "code",
   "execution_count": 60,
   "id": "554ff52a",
   "metadata": {},
   "outputs": [
    {
     "data": {
      "text/plain": [
       "array([99, 61, 81])"
      ]
     },
     "execution_count": 60,
     "metadata": {},
     "output_type": "execute_result"
    }
   ],
   "source": [
    "# 把及格的成绩筛选出来\n",
    "scores[mask1]\n",
    "\n",
    "# 生成的掩码数据\n",
    "scores[scores>60] "
   ]
  },
  {
   "cell_type": "markdown",
   "id": "71187c0c",
   "metadata": {},
   "source": [
    "## numpy 数组中的布尔操作\n",
    "- &  与操作\n",
    "- |  或操作\n",
    "- ~  非操作"
   ]
  },
  {
   "cell_type": "code",
   "execution_count": 32,
   "id": "4dcb1d8b",
   "metadata": {
    "scrolled": true
   },
   "outputs": [
    {
     "name": "stdout",
     "output_type": "stream",
     "text": [
      "[ True False False False]\n",
      "[ True  True  True False]\n",
      "[False False  True  True]\n"
     ]
    }
   ],
   "source": [
    "mask1 = np.array([True, True, False, False])\n",
    "mask2 = np.array([True, False, True, False])\n",
    "print(mask1 & mask2)  # 与运算\n",
    "print(mask1 | mask2)  # 或运算\n",
    "print(~mask1)  # 非运算"
   ]
  },
  {
   "cell_type": "code",
   "execution_count": null,
   "id": "a4c2c8d5",
   "metadata": {},
   "outputs": [],
   "source": []
  },
  {
   "cell_type": "code",
   "execution_count": 33,
   "id": "86b0f55a",
   "metadata": {},
   "outputs": [
    {
     "data": {
      "text/plain": [
       "array([61, 81])"
      ]
     },
     "execution_count": 33,
     "metadata": {},
     "output_type": "execute_result"
    }
   ],
   "source": [
    "#  练习:  取出下列成绩中成绩在[60~90] \n",
    "# 之间所有的成绩\n",
    "# 学生成绩\n",
    "scores = np.array([99, 61, 28, 81, 59])\n",
    "scores[(60 <= scores) & (scores <= 90)]"
   ]
  },
  {
   "cell_type": "markdown",
   "id": "23b5b8b9",
   "metadata": {},
   "source": [
    "## Numpy常用函数\n"
   ]
  },
  {
   "cell_type": "code",
   "execution_count": 68,
   "id": "6a8651c5",
   "metadata": {},
   "outputs": [],
   "source": [
    "arr11 = np.array([1.2, 3.4, 5.6, 7.8, 9.0])\n",
    "arr12 = np.array([2, 3, 4, 5, 6])"
   ]
  },
  {
   "cell_type": "code",
   "execution_count": 71,
   "id": "43a67ba2",
   "metadata": {},
   "outputs": [
    {
     "data": {
      "text/plain": [
       "array([1., 3., 6., 8., 9.])"
      ]
     },
     "execution_count": 71,
     "metadata": {},
     "output_type": "execute_result"
    }
   ],
   "source": [
    "# np.floor(arr11) # 向下取整\n",
    "# np.ceil(arr11) # 向上取整\n",
    "np.modf(arr11) # 区分小数部分和整数部分\n",
    "np.around(arr11) # 四舍五入"
   ]
  },
  {
   "cell_type": "markdown",
   "id": "46b72765",
   "metadata": {},
   "source": [
    "## 统计函数"
   ]
  },
  {
   "cell_type": "code",
   "execution_count": 75,
   "id": "f2de297d",
   "metadata": {},
   "outputs": [
    {
     "data": {
      "text/plain": [
       "np.float64(3.0)"
      ]
     },
     "execution_count": 75,
     "metadata": {},
     "output_type": "execute_result"
    }
   ],
   "source": [
    "arr13 = np.array([1, 2, 3, 4, 5])\n",
    "arr13\n",
    "\n",
    "# 整体求和\n",
    "np.sum(arr13)\n",
    "arr13.sum()\n",
    "# 中位数\n",
    "np.median(arr13)"
   ]
  },
  {
   "cell_type": "code",
   "execution_count": 81,
   "id": "c13b7a7e",
   "metadata": {},
   "outputs": [
    {
     "data": {
      "text/plain": [
       "array([1, 2, 3])"
      ]
     },
     "execution_count": 81,
     "metadata": {},
     "output_type": "execute_result"
    }
   ],
   "source": [
    "arr14 = np.array([[1, 2, 3],\n",
    "                  [4, 5, 6],\n",
    "                  [7, 8, 9],\n",
    "                  [10, 11, 12]])\n",
    "arr14\n",
    "\n",
    "# 每一行的和\n",
    "np.sum(arr14,axis=1) # 沿X轴方向\n",
    "\n",
    "# 每一列的和\n",
    "np.sum(arr14,axis=0) # 沿Y轴方向\n",
    "# 每一行的最大值\n",
    "np.max(arr14,axis=1) \n",
    "# 每一列的最小值\n",
    "np.min(arr14,axis=0) "
   ]
  },
  {
   "cell_type": "markdown",
   "id": "ffeef515-07cf-4661-b76a-f38118ba53af",
   "metadata": {},
   "source": [
    "1.  统计函数：概括性的计算\n",
    "- 集中趋势：中位数 均值 众数\n",
    "- 离散程度：极差 标准差 方差\n",
    "2. 推断统计\n",
    "3. 方差：衡量一组数据距离均值的差异程度\n",
    "4. 标准差：衡量一组数据距离均值的平均差异程度\n"
   ]
  },
  {
   "cell_type": "code",
   "execution_count": 83,
   "id": "5af6b50c-ba8c-4df4-8e35-98afd6efed09",
   "metadata": {},
   "outputs": [],
   "source": [
    "## 其他函数"
   ]
  },
  {
   "cell_type": "code",
   "execution_count": 37,
   "id": "15da8257",
   "metadata": {},
   "outputs": [
    {
     "data": {
      "text/plain": [
       "array([59, 79, 72, 54, 64, 86, 45, 65, 82, 61])"
      ]
     },
     "execution_count": 37,
     "metadata": {},
     "output_type": "execute_result"
    }
   ],
   "source": [
    "np.random.seed(123)\n",
    "class1_score = np.random.normal(70, 10, 10).astype(int)\n",
    "class1_score"
   ]
  },
  {
   "cell_type": "code",
   "execution_count": 85,
   "id": "b8cd239a",
   "metadata": {},
   "outputs": [
    {
     "data": {
      "text/plain": [
       "array(['不及格', '及格', '及格', '不及格', '及格', '及格', '不及格', '及格', '及格', '及格'],\n",
       "      dtype='<U3')"
      ]
     },
     "execution_count": 85,
     "metadata": {},
     "output_type": "execute_result"
    }
   ],
   "source": [
    "# 小于 60 的 设置为不及格，其他为及格\n",
    "np.where(class1_score<60,'不及格','及格')\n"
   ]
  },
  {
   "cell_type": "code",
   "execution_count": 86,
   "id": "d2317eb7",
   "metadata": {},
   "outputs": [
    {
     "data": {
      "text/plain": [
       "array(['不及格', '及格', '及格', '不及格', '及格', '优秀', '不及格', '及格', '优秀', '及格'],\n",
       "      dtype='<U3')"
      ]
     },
     "execution_count": 86,
     "metadata": {},
     "output_type": "execute_result"
    }
   ],
   "source": [
    "# 小于 60 的 设置为不及格，[60,79]及格 80及以上优秀\n",
    "np.where(class1_score<60,'不及格',np.where(class1_score<80,'及格','优秀'))"
   ]
  },
  {
   "cell_type": "code",
   "execution_count": null,
   "id": "cc0c348d-4ed6-4a58-82d5-defca2b3f539",
   "metadata": {},
   "outputs": [],
   "source": []
  }
 ],
 "metadata": {
  "kernelspec": {
   "display_name": "Python 3 (ipykernel)",
   "language": "python",
   "name": "python3"
  },
  "language_info": {
   "codemirror_mode": {
    "name": "ipython",
    "version": 3
   },
   "file_extension": ".py",
   "mimetype": "text/x-python",
   "name": "python",
   "nbconvert_exporter": "python",
   "pygments_lexer": "ipython3",
   "version": "3.13.0"
  },
  "toc": {
   "base_numbering": 1,
   "nav_menu": {},
   "number_sections": true,
   "sideBar": true,
   "skip_h1_title": false,
   "title_cell": "Table of Contents",
   "title_sidebar": "Contents",
   "toc_cell": false,
   "toc_position": {},
   "toc_section_display": true,
   "toc_window_display": false
  },
  "widgets": {
   "application/vnd.jupyter.widget-state+json": {
    "state": {},
    "version_major": 2,
    "version_minor": 0
   }
  }
 },
 "nbformat": 4,
 "nbformat_minor": 5
}
