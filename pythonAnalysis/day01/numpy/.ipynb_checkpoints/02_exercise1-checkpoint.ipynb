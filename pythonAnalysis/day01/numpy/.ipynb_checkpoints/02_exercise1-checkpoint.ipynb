{
 "cells": [
  {
   "cell_type": "markdown",
   "id": "4e407250",
   "metadata": {},
   "source": [
    "# 课堂练习\n",
    "\n",
    "1. 创建一个开始值为10, 终止值为70, 步长为5的含有12个整数等差数列的一维数组。\n",
    "2. 将上述数组改为 4行3列的二维数组。\n",
    "3. 将上述数组改为小数类型的二维数组。\n",
    "4. 将上述数组改为 3行4列的二维数组。\n"
   ]
  },
  {
   "cell_type": "code",
   "execution_count": 10,
   "id": "3acd8aba",
   "metadata": {},
   "outputs": [],
   "source": [
    "import numpy as np"
   ]
  },
  {
   "cell_type": "markdown",
   "id": "d4c986f8",
   "metadata": {},
   "source": [
    "## 答案书写如下"
   ]
  },
  {
   "cell_type": "code",
   "execution_count": 11,
   "id": "d1b4baa4",
   "metadata": {},
   "outputs": [
    {
     "data": {
      "text/plain": [
       "array([10, 15, 20, 25, 30, 35, 40, 45, 50, 55, 60, 65])"
      ]
     },
     "execution_count": 11,
     "metadata": {},
     "output_type": "execute_result"
    }
   ],
   "source": [
    "# 1. 创建一个开始值为10, 终止值为70, 步长为5的含有12个整数等差数列的一维数组。\n",
    "arr1 = np.arange(10,70,5)\n",
    "arr1"
   ]
  },
  {
   "cell_type": "code",
   "execution_count": 16,
   "id": "d68be2a8",
   "metadata": {},
   "outputs": [
    {
     "data": {
      "text/plain": [
       "array([[10, 15, 20],\n",
       "       [25, 30, 35],\n",
       "       [40, 45, 50],\n",
       "       [55, 60, 65]])"
      ]
     },
     "execution_count": 16,
     "metadata": {},
     "output_type": "execute_result"
    }
   ],
   "source": [
    "# 2. 将上述数组改为 4行3列的二维数组。\n",
    "arr2 = arr1.reshape(4,3)\n",
    "arr2"
   ]
  },
  {
   "cell_type": "code",
   "execution_count": 18,
   "id": "ba64d441",
   "metadata": {},
   "outputs": [
    {
     "data": {
      "text/plain": [
       "array([[10., 15., 20.],\n",
       "       [25., 30., 35.],\n",
       "       [40., 45., 50.],\n",
       "       [55., 60., 65.]])"
      ]
     },
     "execution_count": 18,
     "metadata": {},
     "output_type": "execute_result"
    }
   ],
   "source": [
    "# 3. 将上述数组改为小数类型的二维数组。\n",
    "arr3 = arr2.astype('float')\n",
    "arr3"
   ]
  },
  {
   "cell_type": "code",
   "execution_count": 19,
   "id": "2f737346",
   "metadata": {},
   "outputs": [
    {
     "data": {
      "text/plain": [
       "array([[10., 15., 20., 25.],\n",
       "       [30., 35., 40., 45.],\n",
       "       [50., 55., 60., 65.]])"
      ]
     },
     "execution_count": 19,
     "metadata": {},
     "output_type": "execute_result"
    }
   ],
   "source": [
    "# 4. 将上述数组改为 3行4列的二维数组。\n",
    "arr4 = arr3.reshape(3,4)\n",
    "arr4"
   ]
  },
  {
   "cell_type": "code",
   "execution_count": null,
   "id": "6cd9ac7f",
   "metadata": {},
   "outputs": [],
   "source": []
  }
 ],
 "metadata": {
  "kernelspec": {
   "display_name": "Python 3 (ipykernel)",
   "language": "python",
   "name": "python3"
  },
  "language_info": {
   "codemirror_mode": {
    "name": "ipython",
    "version": 3
   },
   "file_extension": ".py",
   "mimetype": "text/x-python",
   "name": "python",
   "nbconvert_exporter": "python",
   "pygments_lexer": "ipython3",
   "version": "3.13.0"
  },
  "toc": {
   "base_numbering": 1,
   "nav_menu": {},
   "number_sections": true,
   "sideBar": true,
   "skip_h1_title": false,
   "title_cell": "Table of Contents",
   "title_sidebar": "Contents",
   "toc_cell": false,
   "toc_position": {},
   "toc_section_display": true,
   "toc_window_display": false
  }
 },
 "nbformat": 4,
 "nbformat_minor": 5
}
