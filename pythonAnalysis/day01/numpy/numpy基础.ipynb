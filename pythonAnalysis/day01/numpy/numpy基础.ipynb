{
 "cells": [
  {
   "cell_type": "code",
   "execution_count": 1,
   "id": "3685ecf3-929e-4fbb-a5ca-1923a8d9368d",
   "metadata": {},
   "outputs": [],
   "source": [
    "# 导入环境库\n",
    "import numpy as np"
   ]
  },
  {
   "cell_type": "code",
   "execution_count": 2,
   "id": "b006ce8b-eb3e-44d4-a58e-71c417783543",
   "metadata": {},
   "outputs": [],
   "source": [
    "sales = [50,90]\n",
    "cost = [20,50]"
   ]
  },
  {
   "cell_type": "code",
   "execution_count": 4,
   "id": "e20f5fff-5eaa-4e9f-b2b5-062c8c03a3f6",
   "metadata": {},
   "outputs": [
    {
     "data": {
      "text/plain": [
       "array([30, 40])"
      ]
     },
     "execution_count": 4,
     "metadata": {},
     "output_type": "execute_result"
    }
   ],
   "source": [
    "np.array(sales) - np.array(cost)"
   ]
  },
  {
   "cell_type": "code",
   "execution_count": null,
   "id": "4d5da875-6c05-440a-a194-c10d630cb05f",
   "metadata": {},
   "outputs": [],
   "source": []
  }
 ],
 "metadata": {
  "kernelspec": {
   "display_name": "Python 3 (ipykernel)",
   "language": "python",
   "name": "python3"
  },
  "language_info": {
   "codemirror_mode": {
    "name": "ipython",
    "version": 3
   },
   "file_extension": ".py",
   "mimetype": "text/x-python",
   "name": "python",
   "nbconvert_exporter": "python",
   "pygments_lexer": "ipython3",
   "version": "3.13.0"
  }
 },
 "nbformat": 4,
 "nbformat_minor": 5
}
